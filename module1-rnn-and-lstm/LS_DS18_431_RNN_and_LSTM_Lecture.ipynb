{
  "nbformat": 4,
  "nbformat_minor": 0,
  "metadata": {
    "accelerator": "GPU",
    "colab": {
      "name": "LS_DS18_431_RNN_and_LSTM_Lecture.ipynb",
      "provenance": [],
      "collapsed_sections": [],
      "include_colab_link": true
    },
    "kernelspec": {
      "display_name": "U4-S2-NNF-DS10",
      "language": "python",
      "name": "u4-s2-nnf-ds10"
    },
    "language_info": {
      "codemirror_mode": {
        "name": "ipython",
        "version": 3
      },
      "file_extension": ".py",
      "mimetype": "text/x-python",
      "name": "python",
      "nbconvert_exporter": "python",
      "pygments_lexer": "ipython3",
      "version": "3.7.6"
    }
  },
  "cells": [
    {
      "cell_type": "markdown",
      "metadata": {
        "id": "view-in-github",
        "colab_type": "text"
      },
      "source": [
        "<a href=\"https://colab.research.google.com/github/evangrinalds/DS-Unit-4-Sprint-3-Deep-Learning/blob/main/module1-rnn-and-lstm/LS_DS18_431_RNN_and_LSTM_Lecture.ipynb\" target=\"_parent\"><img src=\"https://colab.research.google.com/assets/colab-badge.svg\" alt=\"Open In Colab\"/></a>"
      ]
    },
    {
      "cell_type": "markdown",
      "metadata": {
        "id": "Ldr0HZ193GKb"
      },
      "source": [
        "Lambda School Data Science\n",
        "\n",
        "*Unit 4, Sprint 3, Module 1*\n",
        "\n",
        "---\n"
      ]
    },
    {
      "cell_type": "markdown",
      "metadata": {
        "id": "P4ZEajqxgTJe"
      },
      "source": [
        "# Recurrent Neural Networks (RNNs) and Long Short Term Memory (LSTM) (Prepare)\n",
        "\n",
        "<img src=\"https://media.giphy.com/media/l2JJu8U8SoHhQEnoQ/giphy.gif\" width=480 height=356>\n",
        "<br></br>\n",
        "<br></br>"
      ]
    },
    {
      "cell_type": "markdown",
      "metadata": {
        "id": "Om0exkp7gTJg"
      },
      "source": [
        "## Learning Objectives\n",
        "- <a href=\"#p1\">Part 1: </a>Describe Neural Networks used for modeling sequences\n",
        "- <a href=\"#p2\">Part 2: </a>Apply a LSTM to a text generation problem using Keras"
      ]
    },
    {
      "cell_type": "markdown",
      "metadata": {
        "id": "_IizNKWLomoA"
      },
      "source": [
        "## Overview\n",
        "\n",
        "> \"Yesterday's just a memory - tomorrow is never what it's supposed to be.\" -- Bob Dylan\n",
        "\n",
        "Wish you could save [Time In A Bottle](https://www.youtube.com/watch?v=AnWWj6xOleY)? With statistics you can do the next best thing - understand how data varies over time (or any sequential order), and use the order/time dimension predictively.\n",
        "\n",
        "A sequence is just any enumerated collection - order counts, and repetition is allowed. Python lists are a good elemental example - `[1, 2, 2, -1]` is a valid list, and is different from `[1, 2, -1, 2]`. The data structures we tend to use (e.g. NumPy arrays) are often built on this fundamental structure.\n",
        "\n",
        "A time series is data where you have not just the order but some actual continuous marker for where they lie \"in time\" - this could be a date, a timestamp, [Unix time](https://en.wikipedia.org/wiki/Unix_time), or something else. All time series are also sequences, and for some techniques you may just consider their order and not \"how far apart\" the entries are (if you have particularly consistent data collected at regular intervals it may not matter).\n",
        "\n",
        "Series data did not start with RNNs - if you want to learn more about basic techniques check out: https://www.itl.nist.gov/div898/handbook/pmc/section4/pmc4.htm"
      ]
    },
    {
      "cell_type": "markdown",
      "metadata": {
        "id": "44QZgrPUe3-Y"
      },
      "source": [
        "# Neural Networks for Sequences (Learn)"
      ]
    },
    {
      "cell_type": "markdown",
      "metadata": {
        "id": "zDPFbRQtgTJl"
      },
      "source": [
        "## Overview\n",
        "\n",
        "There's plenty more to \"traditional\" time series, but the latest and greatest technique for sequence data is recurrent neural networks. A recurrence relation in math is an equation that uses recursion to define a sequence - a famous example is the Fibonacci numbers:\n",
        "\n",
        "$F_n = F_{n-1} + F_{n-2}$\n",
        "\n",
        "For formal math you also need a base case $F_0=1, F_1=1$, and then the rest builds from there. But for neural networks what we're really talking about are loops:\n",
        "\n",
        "![Recurrent neural network](https://upload.wikimedia.org/wikipedia/commons/b/b5/Recurrent_neural_network_unfold.svg)\n",
        "\n",
        "The hidden layers have edges (output) going back to their own input - this loop means that for any time `t` the training is at least partly based on the output from time `t-1`. The entire network is being represented on the left, and you can unfold the network explicitly to see how it behaves at any given `t`.\n",
        "\n",
        "Different units can have this \"loop\", but a particularly successful one is the long short-term memory unit (LSTM):\n",
        "\n",
        "![Long short-term memory unit](https://upload.wikimedia.org/wikipedia/commons/thumb/6/63/Long_Short-Term_Memory.svg/1024px-Long_Short-Term_Memory.svg.png)\n",
        "\n",
        "There's a lot going on here - in a nutshell, the calculus still works out and backpropagation can still be implemented. The advantage (ane namesake) of LSTM is that it can generally put more weight on recent (short-term) events while not completely losing older (long-term) information.\n",
        "\n",
        "After enough iterations, a typical neural network will start calculating prior gradients that are so small they effectively become zero - this is the [vanishing gradient problem](https://en.wikipedia.org/wiki/Vanishing_gradient_problem), and is what RNN with LSTM addresses. Pay special attention to the $c_t$ parameters and how they pass through the unit to get an intuition for how this problem is solved.\n",
        "\n",
        "So why are these cool? One particularly compelling application is actually not time series but language modeling - language is inherently ordered data (letters/words go one after another, and the order *matters*). [The Unreasonable Effectiveness of Recurrent Neural Networks](https://karpathy.github.io/2015/05/21/rnn-effectiveness/) is a famous and worth reading blog post on this topic.\n",
        "\n",
        "For our purposes, let's use TensorFlow and Keras to train RNNs with natural language. Resources:\n",
        "\n",
        "- https://github.com/keras-team/keras/blob/master/examples/imdb_lstm.py\n",
        "- https://keras.io/layers/recurrent/#lstm\n",
        "- http://adventuresinmachinelearning.com/keras-lstm-tutorial/\n",
        "\n",
        "Note that `tensorflow.contrib` [also has an implementation of RNN/LSTM](https://www.tensorflow.org/tutorials/sequences/recurrent)."
      ]
    },
    {
      "cell_type": "code",
      "metadata": {
        "id": "b-gZiiocnfZP",
        "outputId": "0c944f7a-b853-47a6-a5b7-14aac2a0008d",
        "colab": {
          "base_uri": "https://localhost:8080/",
          "height": 34
        }
      },
      "source": [
        "# Vanishing gradients! (What's wrong with basic RNN w/out LSTM)\n",
        ".1 * .1  # Don't worry about the .00000...2, limits of numeric accuracy\n",
        "# Numbers are represented by computers in binary!\n",
        "# So their precision is limited by powers of 2 and available memory"
      ],
      "execution_count": null,
      "outputs": [
        {
          "output_type": "execute_result",
          "data": {
            "text/plain": [
              "0.010000000000000002"
            ]
          },
          "metadata": {
            "tags": []
          },
          "execution_count": 1
        }
      ]
    },
    {
      "cell_type": "code",
      "metadata": {
        "id": "MTkNEv5Xn1Dt",
        "outputId": "1332eea7-8e48-4c31-85fe-782ee807060c",
        "colab": {
          "base_uri": "https://localhost:8080/",
          "height": 34
        }
      },
      "source": [
        ".01 * .01"
      ],
      "execution_count": null,
      "outputs": [
        {
          "output_type": "execute_result",
          "data": {
            "text/plain": [
              "0.0001"
            ]
          },
          "metadata": {
            "tags": []
          },
          "execution_count": 2
        }
      ]
    },
    {
      "cell_type": "code",
      "metadata": {
        "id": "nUe2OnnEn5c2",
        "outputId": "e29a6043-b7e8-4e7e-f2db-6ec08562d506",
        "colab": {
          "base_uri": "https://localhost:8080/",
          "height": 34
        }
      },
      "source": [
        ".0001**2"
      ],
      "execution_count": null,
      "outputs": [
        {
          "output_type": "execute_result",
          "data": {
            "text/plain": [
              "1e-08"
            ]
          },
          "metadata": {
            "tags": []
          },
          "execution_count": 3
        }
      ]
    },
    {
      "cell_type": "code",
      "metadata": {
        "id": "APpTpLzhn8R9",
        "outputId": "3ad455de-5d50-4d63-d52b-ecc85e8a3d7d",
        "colab": {
          "base_uri": "https://localhost:8080/",
          "height": 34
        }
      },
      "source": [
        "1e-08**20  # the .000...5 is again a numeric accuracy issue"
      ],
      "execution_count": null,
      "outputs": [
        {
          "output_type": "execute_result",
          "data": {
            "text/plain": [
              "1.0000000000000005e-160"
            ]
          },
          "metadata": {
            "tags": []
          },
          "execution_count": 4
        }
      ]
    },
    {
      "cell_type": "code",
      "metadata": {
        "id": "ppeROr8wn_XJ",
        "outputId": "43a2a9f2-e09f-4f48-8694-ef4ccdde17d5",
        "colab": {
          "base_uri": "https://localhost:8080/",
          "height": 34
        }
      },
      "source": [
        "1.0000000000000005e-160**20"
      ],
      "execution_count": null,
      "outputs": [
        {
          "output_type": "execute_result",
          "data": {
            "text/plain": [
              "0.0"
            ]
          },
          "metadata": {
            "tags": []
          },
          "execution_count": 5
        }
      ]
    },
    {
      "cell_type": "code",
      "metadata": {
        "id": "o-JvTnraouN5",
        "outputId": "0fe207e7-40a2-43bb-c2d4-e0ce9da2e53d",
        "colab": {
          "base_uri": "https://localhost:8080/",
          "height": 34
        }
      },
      "source": [
        ".9 ** 500  # This would vanish too eventually"
      ],
      "execution_count": null,
      "outputs": [
        {
          "output_type": "execute_result",
          "data": {
            "text/plain": [
              "1.322070819480823e-23"
            ]
          },
          "metadata": {
            "tags": []
          },
          "execution_count": 7
        }
      ]
    },
    {
      "cell_type": "markdown",
      "metadata": {
        "id": "eWrQllf8WEd-"
      },
      "source": [
        "## Follow Along\n",
        "\n",
        "Sequences come in many shapes and forms from stock prices to text. We'll focus on text, because modeling text as a sequence is a strength of Neural Networks. Let's start with a simple classification task using a TensorFlow tutorial. "
      ]
    },
    {
      "cell_type": "markdown",
      "metadata": {
        "id": "gKYxIE6HgTJr"
      },
      "source": [
        "### RNN/LSTM Sentiment Classification with Keras"
      ]
    },
    {
      "cell_type": "code",
      "metadata": {
        "id": "Ti23G0gRe3kr",
        "outputId": "fd319ff3-e884-4161-ed14-956ca63e39f0",
        "colab": {
          "base_uri": "https://localhost:8080/",
          "height": 69
        }
      },
      "source": [
        "'''\n",
        "#Trains an LSTM model on the IMDB sentiment classification task.\n",
        "The dataset is actually too small for LSTM to be of any advantage\n",
        "compared to simpler, much faster methods such as TF-IDF + LogReg.\n",
        "**Notes**\n",
        "- RNNs are tricky. Choice of batch size is important,\n",
        "choice of loss and optimizer is critical, etc.\n",
        "Some configurations won't converge.\n",
        "- LSTM loss decrease patterns during training can be quite different\n",
        "from what you see with CNNs/MLPs/etc.\n",
        "'''\n",
        "from __future__ import print_function\n",
        "\n",
        "from tensorflow.keras.preprocessing import sequence\n",
        "from tensorflow.keras.models import Sequential\n",
        "from tensorflow.keras.layers import Dense, Embedding\n",
        "from tensorflow.keras.layers import LSTM\n",
        "from tensorflow.keras.datasets import imdb\n",
        "\n",
        "max_features = 20000\n",
        "# cut texts after this number of words (among top max_features most common words)\n",
        "maxlen = 80\n",
        "batch_size = 32\n",
        "\n",
        "print('Loading data...')\n",
        "# NLP pre-processing baked into the dataset\n",
        "(x_train, y_train), (x_test, y_test) = imdb.load_data(num_words=max_features)\n",
        "print(len(x_train), 'train sequences')\n",
        "print(len(x_test), 'test sequences')"
      ],
      "execution_count": null,
      "outputs": [
        {
          "output_type": "stream",
          "text": [
            "Loading data...\n",
            "25000 train sequences\n",
            "25000 test sequences\n"
          ],
          "name": "stdout"
        }
      ]
    },
    {
      "cell_type": "code",
      "metadata": {
        "id": "NG6AvyUpgTJ0",
        "outputId": "66c2ca91-c27e-4cb4-8db0-b26060cdb63b",
        "colab": {
          "base_uri": "https://localhost:8080/",
          "height": 121
        }
      },
      "source": [
        "x_train[0][:50]"
      ],
      "execution_count": null,
      "outputs": [
        {
          "output_type": "execute_result",
          "data": {
            "text/plain": [
              "array([   15,   256,     4,     2,     7,  3766,     5,   723,    36,\n",
              "          71,    43,   530,   476,    26,   400,   317,    46,     7,\n",
              "           4, 12118,  1029,    13,   104,    88,     4,   381,    15,\n",
              "         297,    98,    32,  2071,    56,    26,   141,     6,   194,\n",
              "        7486,    18,     4,   226,    22,    21,   134,   476,    26,\n",
              "         480,     5,   144,    30,  5535], dtype=int32)"
            ]
          },
          "metadata": {
            "tags": []
          },
          "execution_count": 35
        }
      ]
    },
    {
      "cell_type": "code",
      "metadata": {
        "id": "G5E3pvLAuUfI",
        "outputId": "f10e908d-880e-4d18-837b-113774305d4a",
        "colab": {
          "base_uri": "https://localhost:8080/",
          "height": 34
        }
      },
      "source": [
        "len(x_train[0])"
      ],
      "execution_count": null,
      "outputs": [
        {
          "output_type": "execute_result",
          "data": {
            "text/plain": [
              "218"
            ]
          },
          "metadata": {
            "tags": []
          },
          "execution_count": 26
        }
      ]
    },
    {
      "cell_type": "code",
      "metadata": {
        "id": "4ipiITDDgTJ4",
        "outputId": "97d9332d-3bd7-4523-c247-73d2fc0a8590",
        "colab": {
          "base_uri": "https://localhost:8080/",
          "height": 69
        }
      },
      "source": [
        "print('Pad Sequences (samples x time)')\n",
        "x_train = sequence.pad_sequences(x_train, maxlen=maxlen)\n",
        "x_test = sequence.pad_sequences(x_test, maxlen=maxlen)\n",
        "print('x_train shape: ', x_train.shape)\n",
        "print('x_test shape: ', x_test.shape)"
      ],
      "execution_count": null,
      "outputs": [
        {
          "output_type": "stream",
          "text": [
            "Pad Sequences (samples x time)\n",
            "x_train shape:  (25000, 80)\n",
            "x_test shape:  (25000, 80)\n"
          ],
          "name": "stdout"
        }
      ]
    },
    {
      "cell_type": "code",
      "metadata": {
        "id": "7AqCXqQ_gTJ_",
        "outputId": "f6bb2f19-dc62-43b3-909a-2af396a47416",
        "colab": {
          "base_uri": "https://localhost:8080/",
          "height": 34
        }
      },
      "source": [
        "len(x_train[0])"
      ],
      "execution_count": null,
      "outputs": [
        {
          "output_type": "execute_result",
          "data": {
            "text/plain": [
              "80"
            ]
          },
          "metadata": {
            "tags": []
          },
          "execution_count": 28
        }
      ]
    },
    {
      "cell_type": "code",
      "metadata": {
        "id": "LWh7bczVgTKE",
        "outputId": "d88c0a64-e80c-4624-b879-d6cd620dac5c",
        "colab": {
          "base_uri": "https://localhost:8080/",
          "height": 298
        }
      },
      "source": [
        "model = Sequential()\n",
        "\n",
        "model.add(Embedding(max_features, 128))  # Input/cleaning/preprocessing/reduction\n",
        "model.add(LSTM(128, dropout=0.1, recurrent_dropout=0.1))  # Special arch. layer\n",
        "# model.add(Dense(64, activation='relu'))  # Optional, more regular dense deep layers\n",
        "model.add(Dense(1, activation='sigmoid'))  # Output layer (binary classification)\n",
        "\n",
        "model.compile(loss='binary_crossentropy',\n",
        "              optimizer='adam', \n",
        "              metrics=['accuracy'])\n",
        "\n",
        "model.summary()"
      ],
      "execution_count": null,
      "outputs": [
        {
          "output_type": "stream",
          "text": [
            "WARNING:tensorflow:Layer lstm_2 will not use cuDNN kernel since it doesn't meet the cuDNN kernel criteria. It will use generic GPU kernel as fallback when running on GPU\n",
            "Model: \"sequential_2\"\n",
            "_________________________________________________________________\n",
            "Layer (type)                 Output Shape              Param #   \n",
            "=================================================================\n",
            "embedding_2 (Embedding)      (None, None, 128)         2560000   \n",
            "_________________________________________________________________\n",
            "lstm_2 (LSTM)                (None, 128)               131584    \n",
            "_________________________________________________________________\n",
            "dense_2 (Dense)              (None, 1)                 129       \n",
            "=================================================================\n",
            "Total params: 2,691,713\n",
            "Trainable params: 2,691,713\n",
            "Non-trainable params: 0\n",
            "_________________________________________________________________\n"
          ],
          "name": "stdout"
        }
      ]
    },
    {
      "cell_type": "code",
      "metadata": {
        "id": "YkJDF4TdgTKJ",
        "outputId": "3a334c47-cedc-4b5e-f5cf-d2fa8859634f",
        "colab": {
          "base_uri": "https://localhost:8080/",
          "height": 106
        }
      },
      "source": [
        "unicorns = model.fit(x_train, y_train,\n",
        "           batch_size=batch_size,\n",
        "           epochs=2,  # Takes awhile! Run it longer after lecture \n",
        "           validation_data=(x_test, y_test))"
      ],
      "execution_count": null,
      "outputs": [
        {
          "output_type": "stream",
          "text": [
            "Epoch 1/2\n",
            "782/782 [==============================] - 245s 313ms/step - loss: 0.4209 - accuracy: 0.8046 - val_loss: 0.3593 - val_accuracy: 0.8421\n",
            "Epoch 2/2\n",
            "782/782 [==============================] - 247s 316ms/step - loss: 0.2496 - accuracy: 0.9006 - val_loss: 0.4119 - val_accuracy: 0.8317\n"
          ],
          "name": "stdout"
        }
      ]
    },
    {
      "cell_type": "code",
      "metadata": {
        "id": "JBYxFXpIgTKO",
        "outputId": "573d922e-ba5c-45cd-fa72-66c196f8525d",
        "colab": {
          "base_uri": "https://localhost:8080/",
          "height": 295
        }
      },
      "source": [
        "import matplotlib.pyplot as plt\n",
        "\n",
        "# Plot training & validation loss values\n",
        "plt.plot(unicorns.history['loss'])\n",
        "plt.plot(unicorns.history['val_loss'])\n",
        "plt.title('Model loss')\n",
        "plt.ylabel('Loss')\n",
        "plt.xlabel('Epoch')\n",
        "plt.legend(['Train', 'Test'], loc='upper left')\n",
        "plt.show();"
      ],
      "execution_count": null,
      "outputs": [
        {
          "output_type": "display_data",
          "data": {
            "image/png": "[encoded data removed]",
            "text/plain": [
              "<Figure size 432x288 with 1 Axes>"
            ]
          },
          "metadata": {
            "tags": [],
            "needs_background": "light"
          }
        }
      ]
    },
    {
      "cell_type": "code",
      "metadata": {
        "id": "uKuHWw1czNLa",
        "outputId": "9da2b91f-000d-4cd8-e667-3b03f58cbf7c",
        "colab": {
          "base_uri": "https://localhost:8080/",
          "height": 330
        }
      },
      "source": [
        "from tensorflow.keras.layers import Bidirectional\n",
        "\n",
        "model = Sequential()\n",
        "\n",
        "# Bi-directional LSTM\n",
        "# Can stack multiple LSTM Layers\n",
        "\n",
        "model.add(Embedding(max_features, 128))\n",
        "model.add(Bidirectional(LSTM(128, dropout=0.2, return_sequences=True)))\n",
        "model.add(Bidirectional(LSTM(128, dropout=0.2, return_sequences=True)))\n",
        "model.add(Bidirectional(LSTM(128, dropout=0.2)))\n",
        "model.add(Dense(1, activation='sigmoid'))\n",
        "\n",
        "model.compile(loss='binary_crossentropy',\n",
        "              optimizer='adam', \n",
        "              metrics=['accuracy'])\n",
        "\n",
        "model.summary()"
      ],
      "execution_count": null,
      "outputs": [
        {
          "output_type": "stream",
          "text": [
            "Model: \"sequential_3\"\n",
            "_________________________________________________________________\n",
            "Layer (type)                 Output Shape              Param #   \n",
            "=================================================================\n",
            "embedding_3 (Embedding)      (None, None, 128)         2560000   \n",
            "_________________________________________________________________\n",
            "bidirectional (Bidirectional (None, None, 256)         263168    \n",
            "_________________________________________________________________\n",
            "bidirectional_1 (Bidirection (None, None, 256)         394240    \n",
            "_________________________________________________________________\n",
            "bidirectional_2 (Bidirection (None, 256)               394240    \n",
            "_________________________________________________________________\n",
            "dense_3 (Dense)              (None, 1)                 257       \n",
            "=================================================================\n",
            "Total params: 3,611,905\n",
            "Trainable params: 3,611,905\n",
            "Non-trainable params: 0\n",
            "_________________________________________________________________\n"
          ],
          "name": "stdout"
        }
      ]
    },
    {
      "cell_type": "code",
      "metadata": {
        "id": "_XCuWO53zgTm",
        "outputId": "a230bf7e-9094-4845-c369-6af1144c4a75",
        "colab": {
          "base_uri": "https://localhost:8080/",
          "height": 211
        }
      },
      "source": [
        "unicorns2 = model.fit(x_train, y_train,\n",
        "          batch_size=256, \n",
        "          epochs=5, \n",
        "          validation_data=(x_test,y_test))"
      ],
      "execution_count": null,
      "outputs": [
        {
          "output_type": "stream",
          "text": [
            "Epoch 1/5\n",
            "98/98 [==============================] - 13s 131ms/step - loss: 0.4553 - accuracy: 0.7691 - val_loss: 0.3602 - val_accuracy: 0.8417\n",
            "Epoch 2/5\n",
            "98/98 [==============================] - 11s 114ms/step - loss: 0.2462 - accuracy: 0.9016 - val_loss: 0.3770 - val_accuracy: 0.8323\n",
            "Epoch 3/5\n",
            "98/98 [==============================] - 11s 114ms/step - loss: 0.1557 - accuracy: 0.9440 - val_loss: 0.4645 - val_accuracy: 0.8209\n",
            "Epoch 4/5\n",
            "98/98 [==============================] - 11s 116ms/step - loss: 0.0925 - accuracy: 0.9670 - val_loss: 0.5939 - val_accuracy: 0.8181\n",
            "Epoch 5/5\n",
            "98/98 [==============================] - 11s 114ms/step - loss: 0.0509 - accuracy: 0.9820 - val_loss: 0.8281 - val_accuracy: 0.8105\n"
          ],
          "name": "stdout"
        }
      ]
    },
    {
      "cell_type": "code",
      "metadata": {
        "id": "dwByW5K_z7u5",
        "outputId": "b2ce56ce-1ee3-4acf-fe18-b71b76d006eb",
        "colab": {
          "base_uri": "https://localhost:8080/",
          "height": 295
        }
      },
      "source": [
        "import matplotlib.pyplot as plt\n",
        "\n",
        "# Plot training & validation loss values\n",
        "plt.plot(unicorns2.history['loss'])\n",
        "plt.plot(unicorns2.history['val_loss'])\n",
        "plt.title('Model loss')\n",
        "plt.ylabel('Loss')\n",
        "plt.xlabel('Epoch')\n",
        "plt.legend(['Train', 'Test'], loc='upper left')\n",
        "plt.show();"
      ],
      "execution_count": null,
      "outputs": [
        {
          "output_type": "display_data",
          "data": {
            "image/png": "[encoded data removed]",
            "text/plain": [
              "<Figure size 432x288 with 1 Axes>"
            ]
          },
          "metadata": {
            "tags": [],
            "needs_background": "light"
          }
        }
      ]
    },
    {
      "cell_type": "markdown",
      "metadata": {
        "id": "ORBj_6rYgTKT"
      },
      "source": [
        "## Challenge\n",
        "\n",
        "You will be expected to use an Keras LSTM for a classicification task on the *Sprint Challenge*. "
      ]
    },
    {
      "cell_type": "markdown",
      "metadata": {
        "id": "7pETWPIe362y"
      },
      "source": [
        "# LSTM Text generation with Keras (Learn)"
      ]
    },
    {
      "cell_type": "markdown",
      "metadata": {
        "id": "Hge6LhHogTKU"
      },
      "source": [
        "## Overview\n",
        "\n",
        "What else can we do with LSTMs? Since we're analyzing the *sequence*, we can do more than classify - we can *generate* text. I'ved pulled some news stories using [newspaper](https://github.com/codelucas/newspaper/).\n",
        "\n",
        "This example is drawn from the Keras [documentation](https://keras.io/examples/lstm_text_generation/)."
      ]
    },
    {
      "cell_type": "code",
      "metadata": {
        "id": "u0DqvuVzgTKV"
      },
      "source": [
        "from tensorflow.keras.callbacks import LambdaCallback\n",
        "from tensorflow.keras.models import Sequential\n",
        "from tensorflow.keras.layers import Dense, LSTM\n",
        "from tensorflow.keras.optimizers import RMSprop\n",
        "\n",
        "import numpy as np\n",
        "import random\n",
        "import sys\n",
        "import os"
      ],
      "execution_count": null,
      "outputs": []
    },
    {
      "cell_type": "code",
      "metadata": {
        "id": "J6ghGNQGgTKZ",
        "outputId": "c3b320d2-0d62-4990-eee2-6a5c8b96893d",
        "colab": {
          "base_uri": "https://localhost:8080/",
          "height": 206
        }
      },
      "source": [
        "import pandas as pd\n",
        "\n",
        "df = pd.read_json('https://raw.githubusercontent.com/LambdaSchool/DS-Unit-4-Sprint-3-Deep-Learning/main/module1-rnn-and-lstm/wp_articles.json')\n",
        "df.head()"
      ],
      "execution_count": null,
      "outputs": [
        {
          "output_type": "execute_result",
          "data": {
            "text/html": [
              "<div>\n",
              "<style scoped>\n",
              "    .dataframe tbody tr th:only-of-type {\n",
              "        vertical-align: middle;\n",
              "    }\n",
              "\n",
              "    .dataframe tbody tr th {\n",
              "        vertical-align: top;\n",
              "    }\n",
              "\n",
              "    .dataframe thead th {\n",
              "        text-align: right;\n",
              "    }\n",
              "</style>\n",
              "<table border=\"1\" class=\"dataframe\">\n",
              "  <thead>\n",
              "    <tr style=\"text-align: right;\">\n",
              "      <th></th>\n",
              "      <th>article</th>\n",
              "    </tr>\n",
              "  </thead>\n",
              "  <tbody>\n",
              "    <tr>\n",
              "      <th>0</th>\n",
              "      <td>Contributing columnist\\n\\nThe House is on fire...</td>\n",
              "    </tr>\n",
              "    <tr>\n",
              "      <th>1</th>\n",
              "      <td>When President Trump announced his decision to...</td>\n",
              "    </tr>\n",
              "    <tr>\n",
              "      <th>10</th>\n",
              "      <td>Russian President Vladimir Putin speaks at a s...</td>\n",
              "    </tr>\n",
              "    <tr>\n",
              "      <th>100</th>\n",
              "      <td>“The Queen’s Speech” is designed to acknowledg...</td>\n",
              "    </tr>\n",
              "    <tr>\n",
              "      <th>101</th>\n",
              "      <td>Like an aging rock star, the president is now ...</td>\n",
              "    </tr>\n",
              "  </tbody>\n",
              "</table>\n",
              "</div>"
            ],
            "text/plain": [
              "                                               article\n",
              "0    Contributing columnist\\n\\nThe House is on fire...\n",
              "1    When President Trump announced his decision to...\n",
              "10   Russian President Vladimir Putin speaks at a s...\n",
              "100  “The Queen’s Speech” is designed to acknowledg...\n",
              "101  Like an aging rock star, the president is now ..."
            ]
          },
          "metadata": {
            "tags": []
          },
          "execution_count": 37
        }
      ]
    },
    {
      "cell_type": "code",
      "metadata": {
        "id": "DrhvOKzvhChN"
      },
      "source": [
        "data = df['article'].values"
      ],
      "execution_count": null,
      "outputs": []
    },
    {
      "cell_type": "code",
      "metadata": {
        "id": "_Fb2Q-yVgTKi",
        "outputId": "bbc8318e-6c9c-4779-9cb3-79d184bfb64f",
        "colab": {
          "base_uri": "https://localhost:8080/",
          "height": 34
        }
      },
      "source": [
        "len(data)"
      ],
      "execution_count": null,
      "outputs": [
        {
          "output_type": "execute_result",
          "data": {
            "text/plain": [
              "136"
            ]
          },
          "metadata": {
            "tags": []
          },
          "execution_count": 40
        }
      ]
    },
    {
      "cell_type": "code",
      "metadata": {
        "id": "XHzyYQp_gTKm",
        "outputId": "a9e02b7e-76d8-4ed5-f7ed-c7af35dbf957",
        "colab": {
          "base_uri": "https://localhost:8080/",
          "height": 192
        }
      },
      "source": [
        "data[-1]"
      ],
      "execution_count": null,
      "outputs": [
        {
          "output_type": "execute_result",
          "data": {
            "application/vnd.google.colaboratory.intrinsic+json": {
              "type": "string"
            },
            "text/plain": [
              "'The threat to hard-won women’s rights in Rojava is receiving little coverage in the context of Turkey’s military campaign, but women there say Turkish aggression could wipe out these reforms and perhaps herald a return to the misogyny and sexual violence of militant Islamism. There is widespread concern about the possible escape of ISIS prisoners held by Kurdish forces, and on Sunday, it was reported that at least 750 people suspected of affiliation with ISIS fled a secure displacement camp in the chaos caused by Turkish shelling. In addition, several dozen “high-value” ISIS prisoners were reportedly left behind by U.S. troops when they retreated, the New York Times reported, and ISIS has already claimed at least two attacks in the area since the invasion started, including a car bombing that killed three people.'"
            ]
          },
          "metadata": {
            "tags": []
          },
          "execution_count": 41
        }
      ]
    },
    {
      "cell_type": "code",
      "metadata": {
        "id": "N4odloz3gTKq"
      },
      "source": [
        "# Encode Data as Chars\n",
        "\n",
        "# Gather all text \n",
        "# Why? 1. See all possible characters 2. For training / splitting later\n",
        "text = \" \".join(data)\n",
        "\n",
        "# Unique Characters\n",
        "chars = list(set(text))\n",
        "\n",
        "# Lookup Tables - mapping chars to nums for numeric representation\n",
        "char_int = {c:i for i, c in enumerate(chars)} \n",
        "int_char = {i:c for i, c in enumerate(chars)} "
      ],
      "execution_count": null,
      "outputs": []
    },
    {
      "cell_type": "code",
      "metadata": {
        "id": "JChqsufkgTKu",
        "outputId": "0592468e-13dd-4ef2-d92a-eca70d307af1",
        "colab": {
          "base_uri": "https://localhost:8080/",
          "height": 34
        }
      },
      "source": [
        "len(chars)"
      ],
      "execution_count": null,
      "outputs": [
        {
          "output_type": "execute_result",
          "data": {
            "text/plain": [
              "121"
            ]
          },
          "metadata": {
            "tags": []
          },
          "execution_count": 43
        }
      ]
    },
    {
      "cell_type": "code",
      "metadata": {
        "id": "0qLw4bLL3Ept",
        "outputId": "f6632d52-7405-4902-b125-83fabdc7a9b8",
        "colab": {
          "base_uri": "https://localhost:8080/",
          "height": 538
        }
      },
      "source": [
        "chars[:30]"
      ],
      "execution_count": null,
      "outputs": [
        {
          "output_type": "execute_result",
          "data": {
            "text/plain": [
              "['…',\n",
              " 'a',\n",
              " 'ã',\n",
              " 'ö',\n",
              " 'p',\n",
              " '&',\n",
              " 'í',\n",
              " '.',\n",
              " '―',\n",
              " ',',\n",
              " 'E',\n",
              " ':',\n",
              " 'F',\n",
              " '9',\n",
              " 'ﬂ',\n",
              " '@',\n",
              " 'K',\n",
              " 'ñ',\n",
              " '\\u2066',\n",
              " 'R',\n",
              " '—',\n",
              " '|',\n",
              " 'V',\n",
              " '{',\n",
              " '’',\n",
              " 'Y',\n",
              " 'Q',\n",
              " 'h',\n",
              " 'é',\n",
              " '1']"
            ]
          },
          "metadata": {
            "tags": []
          },
          "execution_count": 44
        }
      ]
    },
    {
      "cell_type": "code",
      "metadata": {
        "id": "DQWIoKsPgTKy",
        "outputId": "4a5bef4d-a4c9-497e-df8f-77feefee8f27",
        "colab": {
          "base_uri": "https://localhost:8080/",
          "height": 34
        }
      },
      "source": [
        "# Create the sequence data\n",
        "maxlen = 40\n",
        "step = 5\n",
        "\n",
        "# Tokenizing to characters, encoded as numbers\n",
        "encoded = [char_int[c] for c in text]\n",
        "\n",
        "sequences = [] # Each element is 40 chars long\n",
        "next_char = [] # One element for each sequence\n",
        "\n",
        "for i in range(0, len(encoded) - maxlen, step):\n",
        "    sequences.append(encoded[i : i + maxlen])\n",
        "    next_char.append(encoded[i + maxlen])\n",
        "    \n",
        "print('sequences: ', len(sequences))"
      ],
      "execution_count": null,
      "outputs": [
        {
          "output_type": "stream",
          "text": [
            "sequences:  178374\n"
          ],
          "name": "stdout"
        }
      ]
    },
    {
      "cell_type": "code",
      "metadata": {
        "id": "TGu08gZpgTK1",
        "outputId": "c80cc731-b350-454b-efb8-421a9b7d51be",
        "colab": {
          "base_uri": "https://localhost:8080/",
          "height": 34
        }
      },
      "source": [
        "sequences[0][:10]"
      ],
      "execution_count": null,
      "outputs": [
        {
          "output_type": "execute_result",
          "data": {
            "text/plain": [
              "[84, 90, 60, 91, 77, 70, 50, 82, 91, 70]"
            ]
          },
          "metadata": {
            "tags": []
          },
          "execution_count": 47
        }
      ]
    },
    {
      "cell_type": "code",
      "metadata": {
        "id": "9V15mbcU3iBI",
        "outputId": "644839de-613d-4d3a-c457-1341515745c1",
        "colab": {
          "base_uri": "https://localhost:8080/",
          "height": 34
        }
      },
      "source": [
        "sequences[1][:10]"
      ],
      "execution_count": null,
      "outputs": [
        {
          "output_type": "execute_result",
          "data": {
            "text/plain": [
              "[70, 50, 82, 91, 70, 60, 83, 48, 116, 90]"
            ]
          },
          "metadata": {
            "tags": []
          },
          "execution_count": 48
        }
      ]
    },
    {
      "cell_type": "code",
      "metadata": {
        "id": "PTx9HVAsgTK4"
      },
      "source": [
        "# Create x & y\n",
        "x = np.zeros((len(sequences), maxlen, len(chars)), dtype=np.bool)\n",
        "y = np.zeros((len(sequences),len(chars)), dtype=np.bool)\n",
        "\n",
        "for i, sequence in enumerate(sequences):\n",
        "    for t, char in enumerate(sequence):\n",
        "        x[i,t,char] = 1\n",
        "    y[i, next_char[i]] = 1"
      ],
      "execution_count": null,
      "outputs": []
    },
    {
      "cell_type": "code",
      "metadata": {
        "id": "oge3luS0gTK7",
        "outputId": "ac94bd09-a53e-4640-8e94-aeb980a9eafa",
        "colab": {
          "base_uri": "https://localhost:8080/",
          "height": 34
        }
      },
      "source": [
        "x.shape"
      ],
      "execution_count": null,
      "outputs": [
        {
          "output_type": "execute_result",
          "data": {
            "text/plain": [
              "(178374, 40, 121)"
            ]
          },
          "metadata": {
            "tags": []
          },
          "execution_count": 50
        }
      ]
    },
    {
      "cell_type": "code",
      "metadata": {
        "id": "SkL0crP7gTK_",
        "outputId": "b9c575ec-76ee-4985-c9ce-e7fa2775a494",
        "colab": {
          "base_uri": "https://localhost:8080/",
          "height": 34
        }
      },
      "source": [
        "y.shape"
      ],
      "execution_count": null,
      "outputs": [
        {
          "output_type": "execute_result",
          "data": {
            "text/plain": [
              "(178374, 121)"
            ]
          },
          "metadata": {
            "tags": []
          },
          "execution_count": 51
        }
      ]
    },
    {
      "cell_type": "code",
      "metadata": {
        "id": "aMnBxh08gTLC"
      },
      "source": [
        "# build the model: a single LSTM\n",
        "model = Sequential()\n",
        "model.add(LSTM(128, input_shape=(maxlen, len(chars))))\n",
        "model.add(Dense(len(chars), activation='softmax'))\n",
        "\n",
        "model.compile(loss='categorical_crossentropy', optimizer='adam')"
      ],
      "execution_count": null,
      "outputs": []
    },
    {
      "cell_type": "code",
      "metadata": {
        "id": "zmwS-ShN4ZCT",
        "outputId": "e5cd935f-3bc0-40a4-d818-ba1ee7afdfbf",
        "colab": {
          "base_uri": "https://localhost:8080/",
          "height": 225
        }
      },
      "source": [
        "model.summary()"
      ],
      "execution_count": null,
      "outputs": [
        {
          "output_type": "stream",
          "text": [
            "Model: \"sequential_4\"\n",
            "_________________________________________________________________\n",
            "Layer (type)                 Output Shape              Param #   \n",
            "=================================================================\n",
            "lstm_6 (LSTM)                (None, 128)               128000    \n",
            "_________________________________________________________________\n",
            "dense_4 (Dense)              (None, 121)               15609     \n",
            "=================================================================\n",
            "Total params: 143,609\n",
            "Trainable params: 143,609\n",
            "Non-trainable params: 0\n",
            "_________________________________________________________________\n"
          ],
          "name": "stdout"
        }
      ]
    },
    {
      "cell_type": "code",
      "metadata": {
        "id": "eGQzhMHagTLE"
      },
      "source": [
        "def sample(preds):\n",
        "    # helper function to sample an index from a probability array\n",
        "    preds = np.asarray(preds).astype('float64')\n",
        "    preds = np.log(preds) / 1\n",
        "    exp_preds = np.exp(preds)\n",
        "    preds = exp_preds / np.sum(exp_preds)\n",
        "    probas = np.random.multinomial(1, preds, 1)\n",
        "    return np.argmax(probas)"
      ],
      "execution_count": null,
      "outputs": []
    },
    {
      "cell_type": "code",
      "metadata": {
        "id": "Gd7xY7-IgTLH"
      },
      "source": [
        "def on_epoch_end(epoch, _):\n",
        "    # Function invoked at end of each epoch. Prints generated text.\n",
        "    print()\n",
        "    print('----- Generating text after Epoch: %d' % epoch)\n",
        "\n",
        "    start_index = random.randint(0, len(text) - maxlen - 1)\n",
        "    \n",
        "    generated = ''\n",
        "    \n",
        "    sentence = text[start_index: start_index + maxlen]\n",
        "    generated += sentence\n",
        "    \n",
        "    print('----- Generating with seed: \"' + sentence + '\"')\n",
        "    sys.stdout.write(generated)\n",
        "    \n",
        "    for i in range(400):\n",
        "        x_pred = np.zeros((1, maxlen, len(chars)))\n",
        "        for t, char in enumerate(sentence):\n",
        "            x_pred[0, t, char_int[char]] = 1\n",
        "            \n",
        "        preds = model.predict(x_pred, verbose=0)[0]\n",
        "        next_index = sample(preds)\n",
        "        next_char = int_char[next_index]\n",
        "        \n",
        "        sentence = sentence[1:] + next_char\n",
        "        \n",
        "        sys.stdout.write(next_char)\n",
        "        sys.stdout.flush()\n",
        "    print()\n",
        "\n",
        "\n",
        "print_callback = LambdaCallback(on_epoch_end=on_epoch_end)"
      ],
      "execution_count": null,
      "outputs": []
    },
    {
      "cell_type": "code",
      "metadata": {
        "id": "5YUhHG5tgTLL",
        "outputId": "a1d60053-5fc1-42bb-b581-1a629d3157ea",
        "colab": {
          "base_uri": "https://localhost:8080/",
          "height": 1000
        }
      },
      "source": [
        "# fit the model\n",
        "\n",
        "model.fit(x, y,\n",
        "          batch_size=32,\n",
        "          epochs=20,\n",
        "          callbacks=[print_callback])"
      ],
      "execution_count": null,
      "outputs": [
        {
          "output_type": "stream",
          "text": [
            "Epoch 1/20\n",
            "5574/5575 [============================>.] - ETA: 0s - loss: 1.6830\n",
            "----- Generating text after Epoch: 0\n",
            "----- Generating with seed: \"Finds that Just Need to Be Shared, a Fac\"\n",
            "Finds that Just Need to Be Shared, a Facifial Dollact (They’ld reasu and the mindic Conzect and Ilike unotity.” TO. (P-b. Camis (Jo.not” We way people a ranes gance prima\n",
            "\n",
            "\n",
            "\n",
            "\n",
            "I copetame a videord he has to three neegturity presidented a terrials.\n",
            "\n",
            "In purtne, supt politic for inds from pays he telm videond butn’ugh profecced at acceisered any the colilation.\n",
            "\n",
            "“The kidn’t for in on Taích mediem meristand. It videer protituther foree on pu\n",
            "5575/5575 [==============================] - 36s 6ms/step - loss: 1.6830\n",
            "Epoch 2/20\n",
            "5569/5575 [============================>.] - ETA: 0s - loss: 1.6559\n",
            "----- Generating text after Epoch: 1\n",
            "----- Generating with seed: \"gn said in an email that it stands behin\"\n",
            "gn said in an email that it stands behind my ropebod to one cauntry, we jun gives onllare their. Esdans tuyselly, out just suppolt the factivels. And sly to ly a very. We’ne jut goint potalities in unuess the and Kurds digsnoricter Can conftellar calleng’s inkesting a \"inatrities,” investia intexares, and onback stady myubly right on Rupsubles, and inserfuring by how frox the $601, CBu ardistent to a rificus themensmaniesmon? inquilecom\n",
            "5575/5575 [==============================] - 37s 7ms/step - loss: 1.6560\n",
            "Epoch 3/20\n",
            "5570/5575 [============================>.] - ETA: 0s - loss: 1.6312\n",
            "----- Generating text after Epoch: 2\n",
            "----- Generating with seed: \"ed the Senate Foreign Relations Committe\"\n",
            "ed the Senate Foreign Relations Committey the chensent were of the begn with burns. They sandics.”, who dopy the presenting us a cling testifits. They respond to ho moand collecture creative people that sueper strum and exchppeets. Mode ude though \"Fach Gearbol. Bestimate took himsered in the makega. Jashar after Resstodes progres in a Taxaage, thy figsnencust. You our a-vore to home a claim. She tole the them two subjeeting and the Hou\n",
            "5575/5575 [==============================] - 36s 7ms/step - loss: 1.6310\n",
            "Epoch 4/20\n",
            "5573/5575 [============================>.] - ETA: 0s - loss: 1.6083\n",
            "----- Generating text after Epoch: 3\n",
            "----- Generating with seed: \"an transfix anyone, regardless of what y\"\n",
            "an transfix anyone, regardless of what you days, resagred to playelly cansifements you was injely at reviolesw wauesy you’re demsile but on evimentive out. “Phire police of liweritial is to into #Trump’s not as “may-he sifficies law busn will purts in Hon bode upler Youman deniffilies, beeagion as sentitility but over other furt effects” repostral teammateds, whither upporaty interdinge with lick to cance to minisaul, the itn that he sa\n",
            "5575/5575 [==============================] - 36s 6ms/step - loss: 1.6083\n",
            "Epoch 5/20\n",
            "5565/5575 [============================>.] - ETA: 0s - loss: 1.5876\n",
            "----- Generating text after Epoch: 4\n",
            "----- Generating with seed: \"n red and processed meat.\n",
            "\n",
            "AD\n",
            "\n",
            "Katz says\"\n",
            "n red and processed meat.\n",
            "\n",
            "AD\n",
            "\n",
            "Katz says reachal his dipnownaling worked than our ismased you investigury of the senst” of his hign of the most.\n",
            "\n",
            "That’s dwing teampiog sumplies in 2017 advicting tist's and other liffilials in a wansitiatasers from Trump say when you polls that Gursictions kidd to tone) it he life of knep reen looks and eleiping and poante manybol has creach. The chailly.”\n",
            "\n",
            "Has feel years of the fapely waime teampost for\n",
            "5575/5575 [==============================] - 37s 7ms/step - loss: 1.5877\n",
            "Epoch 6/20\n",
            "5571/5575 [============================>.] - ETA: 0s - loss: 1.5680\n",
            "----- Generating text after Epoch: 5\n",
            "----- Generating with seed: \"than 65 million Twitter followers to wat\"\n",
            "than 65 million Twitter followers to wat and prodicailles serverrent to the weetelly you bield in otarnien accoss to daing me not.”\n",
            "\n",
            "AD\n",
            "\n",
            "RERdrVIPlES)\n",
            "RIfD Gtunte-Pith Hen Pemony Glverty Camy Thersep word feve use opaciment so medollez measted the cless fire of they comeducially to before’s is a quijes about you hands in the there giols, and the 22 mane tite: Howe do the of the Kurds, whole depotities, it not to dourded.\n",
            "\n",
            "Ap No could joa\n",
            "5575/5575 [==============================] - 37s 7ms/step - loss: 1.5680\n",
            "Epoch 7/20\n",
            "5564/5575 [============================>.] - ETA: 0s - loss: 1.5499\n",
            "----- Generating text after Epoch: 6\n",
            "----- Generating with seed: \" we can kind of fix it; some, we really \"\n",
            " we can kind of fix it; some, we really insubloting emect, inveltical\n",
            "\n",
            "became, molit obtyitr in conterns, on Ball Parnia as a wan child Riploblowaro hard was tall to theminspless.”\n",
            "\n",
            "Alazilarches droratility in Syria tratifics suece: Gomber Efforn-SLide’s socrations sside, out did it’s infoll to theoby. Through informans” been subners to accus intoss anyone with it withthen quarter with weven at end over $15.\n",
            "\n",
            "Riss said.\n",
            "\n",
            "Sa in I geven G\n",
            "5575/5575 [==============================] - 37s 7ms/step - loss: 1.5497\n",
            "Epoch 8/20\n",
            "5570/5575 [============================>.] - ETA: 0s - loss: 1.5325\n",
            "----- Generating text after Epoch: 7\n",
            "----- Generating with seed: \"mentioned the news, only hours old, that\"\n",
            "mentioned the news, only hours old, that help they was no teel to docal 1mbristarost at 12-infinabres are, is a comparter from neighbone for (moristan enformates are Deveryed his cause with the Services, cively report-rinking last the evending” be notict on the seciation, ‘mocal of the yous the Streshive my move pro-Broz Sa notelving conkens, as pobso Is promecans beadoiatized and told the Scrays-came also wrong for Act,” all and presth\n",
            "5575/5575 [==============================] - 37s 7ms/step - loss: 1.5326\n",
            "Epoch 9/20\n",
            "5569/5575 [============================>.] - ETA: 0s - loss: 1.5168\n",
            "----- Generating text after Epoch: 8\n",
            "----- Generating with seed: \" delivered.\n",
            "\n",
            "a. System Requirements to A\"\n",
            " delivered.\n",
            "\n",
            "a. System Requirements to Austington and they booking as 18-46, right to the lore 'n other book lisnishably mookity geveral compagizats court,” any video undies shippess Prisod at her Mixthing Desidan and you to third trogge inston” or nother and Inaed Biden in the accede him Chiler Ukia Rep. Weekshes toch poadatol an addinition can Unnerning Heles on How a left or its the ring for the Schaffer 1/25, warn by being in a veri\n",
            "5575/5575 [==============================] - 37s 7ms/step - loss: 1.5168\n",
            "Epoch 10/20\n",
            "5573/5575 [============================>.] - ETA: 0s - loss: 1.5017\n",
            "----- Generating text after Epoch: 9\n",
            "----- Generating with seed: \"attacking vehicles.\" This, per our colle\"\n",
            "attacking vehicles.\" This, per our colle. Findstord Restardisallegr beth Turkey’s ofulting puffued to denaking and pick Boone, its sublocal issuble recorrintrated the trade mored, thoughting in Brulto from his pack finater U.S. Rosing govestive Jooking resagar but the sigder companies, Tr. Costrebatt Thirel’s peotwer that he qrice wantingtonverying 10 tear 15 pit were the neegure, oft werger, the spore more with the cources. Betweem a p\n",
            "5575/5575 [==============================] - 37s 7ms/step - loss: 1.5017\n",
            "Epoch 11/20\n",
            "5570/5575 [============================>.] - ETA: 0s - loss: 1.4888\n",
            "----- Generating text after Epoch: 10\n",
            "----- Generating with seed: \"asions: 1) The pastry, which takes time \"\n",
            "asions: 1) The pastry, which takes time to thought theased somith on it is a commentserod world have Terns on the was gay furking how. Nother’s service withdrark half in asound asstor. Enaches man alfore receid or people, which relativer, sen our chancl.\n",
            "\n",
            "“You offee but hole sently planks,” Kiren and defense to the Amiramil (R-E... “troops touthed of din she had Kherewan-Camy wase presents or doment accescles to have sentence even any y\n",
            "5575/5575 [==============================] - 37s 7ms/step - loss: 1.4889\n",
            "Epoch 12/20\n",
            "5564/5575 [============================>.] - ETA: 0s - loss: 1.4751\n",
            "----- Generating text after Epoch: 11\n",
            "----- Generating with seed: \" and date, information about your intera\"\n",
            " and date, information about your interated to to ved: Walted 12 old St. Writhe’s 15 poing to she was her mend of the misner that resacued to Jlungerned The Washmy’f 33-year of the Calie Blunger Sendon zickus gonds., sutholdes’ also sound a 83-4. Minical govey That Marke’s (my’t un commeturation was the former when the iseams to even at end on troops said. His and Wholon Forded and Glordinston, Chile decadement appeamed thought the noti\n",
            "5575/5575 [==============================] - 37s 7ms/step - loss: 1.4752\n",
            "Epoch 13/20\n",
            "5567/5575 [============================>.] - ETA: 0s - loss: 1.4627\n",
            "----- Generating text after Epoch: 12\n",
            "----- Generating with seed: \"for Steelers: The Steelers have an early\"\n",
            "for Steelers: The Steelers have an earlychers use all a Kurring Justinn of claims after to stuck pulls save play of funstiond. He will develsival the president.\n",
            "\n",
            "The 2017 councy]\n",
            "\n",
            "Farse a morials.”\n",
            "\n",
            "As the Dlan Hdoge his were RSk longlision regip of one who told the mind, the Lest the cooki-grackers is representically whithingted.\n",
            "\n",
            "Marement eventusally dridgy the NLTO. wheremend..\n",
            "\n",
            "“Their feld even the Carblatboo will thriggt one organi\n",
            "5575/5575 [==============================] - 37s 7ms/step - loss: 1.4625\n",
            "Epoch 14/20\n",
            "5575/5575 [==============================] - ETA: 0s - loss: 1.4525\n",
            "----- Generating text after Epoch: 13\n",
            "----- Generating with seed: \"mean you’re obligated to meet them; remi\"\n",
            "mean you’re obligated to meet them; remilly to world: I dominations, bujory appronp interrits arrotive of gones. The our offs Inthing Johnonn State De.o. “Yot: “This’ is. Her patent of Kenttron Striff Day of.\n",
            "\n",
            "•vodecles by MrCoucey brauger Moseasa, EAd Eirne: To restives missor by the examble of “here” ‘ne-king by their issudnorops for ghansed supporters after you as they was soban have tor ulaims for a mometury,” perponsia fore use and\n",
            "5575/5575 [==============================] - 37s 7ms/step - loss: 1.4525\n",
            "Epoch 15/20\n",
            "5571/5575 [============================>.] - ETA: 0s - loss: 1.4393\n",
            "----- Generating text after Epoch: 14\n",
            "----- Generating with seed: \"ashed them headlong against the rocks. O\"\n",
            "ashed them headlong against the rocks. One is the Where’s our professon’t grate in a slenal belained further, custs. And notcorate mnar an with years, [on shey countern from Sunday, who everalt them; aurohes: “I behaviess of a will Kenses, admition their my as werence started. of the Maxhondaw, Stirdin and that kits as then erview prigutial actually ade.\n",
            "\n",
            "\n",
            "An Octonans Dealty, moresor is typion viter souch,” where the requeftling her sui\n",
            "5575/5575 [==============================] - 38s 7ms/step - loss: 1.4394\n",
            "Epoch 16/20\n",
            "5573/5575 [============================>.] - ETA: 0s - loss: 1.4309\n",
            "----- Generating text after Epoch: 15\n",
            "----- Generating with seed: \"re also much greater — 1 in 1,500. But w\"\n",
            "re also much greater — 1 in 1,500. But walke]\n",
            "\n",
            "74llas, and Fortinia President Trump spefence, scepet milories and ‘mail each began Services, reduces every at immanted sching plines shabes over meresal of other deelements formers, recount the coance. There, lock, Miel, a black leason, at I I,” a reasonan says. Walk and Iwar Sant. Schoolly with the ording alance same is ready Democras. “decrintary treakers,” also spacing mirred and now of\n",
            "5575/5575 [==============================] - 37s 7ms/step - loss: 1.4308\n",
            "Epoch 17/20\n",
            "5570/5575 [============================>.] - ETA: 0s - loss: 1.4217\n",
            "----- Generating text after Epoch: 16\n",
            "----- Generating with seed: \"nformation that has been transferred to \"\n",
            "nformation that has been transferred to bread to Assideratives that he play is beacold to wour firs, sinces behn the priers, to mat she said his recome the storitized his Lazoeines. To her speak pailing. They year, our champ. These “now commity fack on evermatich to level, region hip nearm, who the woich, who araonalized this fin, espect the wins yoo lively reading a supply make lothed. Eldright Hunter Link Wirking the sufferetwed a mak\n",
            "5575/5575 [==============================] - 36s 7ms/step - loss: 1.4217\n",
            "Epoch 18/20\n",
            "5563/5575 [============================>.] - ETA: 0s - loss: 1.4134\n",
            "----- Generating text after Epoch: 17\n",
            "----- Generating with seed: \"ys to file a certiorari petition, potent\"\n",
            "ys to file a certiorari petition, potent the Mastwricancians wellia after he troops have reached I time to make is tould. Thas offense from Hunkers to play.cy jouluma,” accusing. He are scondity, in the lost goney of the clearm’s goiling means, or.\n",
            "\n",
            "At hoss. Her tweets ttacks wrethons and Suppert equitinescr an OVerint in a gune\n",
            "\n",
            "“They do whipey the videos that mather presidenties\n",
            "\n",
            "Body has leasus of helping received, Senday Eurosiss li\n",
            "5575/5575 [==============================] - 36s 7ms/step - loss: 1.4132\n",
            "Epoch 19/20\n",
            "5575/5575 [==============================] - ETA: 0s - loss: 1.4046\n",
            "----- Generating text after Epoch: 18\n",
            "----- Generating with seed: \"ommunity join forces. NoMA’s Red Bear Br\"\n",
            "ommunity join forces. NoMA’s Red Bear Browe Cherds Deport; his ditications in Ghore, and Intennity of Mad, MnGa Minicational Newso Privination in Lashoun Find the day that Lane on Frison; oun — thoughter space in their owner name to her fave the personicallic races to the approame. If you resurt of the game they fustim to house clow the my Tedria took is orcens access to loter and lof alands to put to become gress hit also dial from Sch\n",
            "5575/5575 [==============================] - 37s 7ms/step - loss: 1.4046\n",
            "Epoch 20/20\n",
            "5567/5575 [============================>.] - ETA: 0s - loss: 1.3955\n",
            "----- Generating text after Epoch: 19\n",
            "----- Generating with seed: \"ion wanted to provoke Iraq into a confro\"\n",
            "ion wanted to provoke Iraq into a confroes and referding to We Worner, in 1999 on fired the four and served on these off of the group and not a mictrow soce oversivermazed to LLC an immassion to Sussists, which a likely to served to be they to review wants, chosed,” Keed for so pulling way any, is neederve envie of a to would maned: “And Rost Destrical Ever was the reaswed ataigs also before the emaging. Whatem videos a diators than pre\n",
            "5575/5575 [==============================] - 37s 7ms/step - loss: 1.3958\n"
          ],
          "name": "stdout"
        },
        {
          "output_type": "execute_result",
          "data": {
            "text/plain": [
              "<tensorflow.python.keras.callbacks.History at 0x7f615bab2208>"
            ]
          },
          "metadata": {
            "tags": []
          },
          "execution_count": 57
        }
      ]
    },
    {
      "cell_type": "markdown",
      "metadata": {
        "id": "tmLR4V2hgTLN"
      },
      "source": [
        "## Challenge\n",
        "\n",
        "You will be expected to use a Keras LSTM to generate text on today's assignment. "
      ]
    },
    {
      "cell_type": "markdown",
      "metadata": {
        "id": "LP7r92FRgTLP"
      },
      "source": [
        "# Review\n",
        "\n",
        "- <a href=\"#p1\">Part 1: </a>Describe Neural Networks used for modeling sequences\n",
        "    * Sequence Problems:\n",
        "        - Time Series (like Stock Prices, Weather, etc.)\n",
        "        - Text Classification\n",
        "        - Text Generation\n",
        "        - And many more! :D\n",
        "    * LSTMs are generally preferred over RNNs for most problems\n",
        "    * LSTMs are typically a single hidden layer of LSTM type; although, other architectures are possible.\n",
        "    * Keras has LSTMs/RNN layer types implemented nicely\n",
        "- <a href=\"#p2\">Part 2: </a>Apply a LSTM to a text generation problem using Keras\n",
        "    * Shape of input data is very important\n",
        "    * Can take a while to train\n",
        "    * You can use it to write movie scripts. :P "
      ]
    }
  ]
}