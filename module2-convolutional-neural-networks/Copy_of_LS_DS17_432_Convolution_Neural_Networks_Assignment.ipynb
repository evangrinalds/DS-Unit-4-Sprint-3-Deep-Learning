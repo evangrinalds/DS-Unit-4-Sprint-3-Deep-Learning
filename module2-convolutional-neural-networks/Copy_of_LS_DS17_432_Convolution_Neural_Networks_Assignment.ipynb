{
  "nbformat": 4,
  "nbformat_minor": 0,
  "metadata": {
    "kernelspec": {
      "display_name": "U4-S2-NNF-DS10",
      "language": "python",
      "name": "u4-s2-nnf-ds10"
    },
    "language_info": {
      "codemirror_mode": {
        "name": "ipython",
        "version": 3
      },
      "file_extension": ".py",
      "mimetype": "text/x-python",
      "name": "python",
      "nbconvert_exporter": "python",
      "pygments_lexer": "ipython3",
      "version": "3.7.6"
    },
    "nteract": {
      "version": "0.23.1"
    },
    "colab": {
      "name": "Copy of LS_DS17_432_Convolution_Neural_Networks_Assignment.ipynb",
      "provenance": [],
      "include_colab_link": true
    }
  },
  "cells": [
    {
      "cell_type": "markdown",
      "metadata": {
        "id": "view-in-github",
        "colab_type": "text"
      },
      "source": [
        "<a href=\"https://colab.research.google.com/github/evangrinalds/DS-Unit-4-Sprint-3-Deep-Learning/blob/main/module2-convolutional-neural-networks/Copy_of_LS_DS17_432_Convolution_Neural_Networks_Assignment.ipynb\" target=\"_parent\"><img src=\"https://colab.research.google.com/assets/colab-badge.svg\" alt=\"Open In Colab\"/></a>"
      ]
    },
    {
      "cell_type": "markdown",
      "metadata": {
        "id": "fc4yMj7mtCAZ",
        "colab_type": "text"
      },
      "source": [
        "<img align=\"left\" src=\"https://lever-client-logos.s3.amazonaws.com/864372b1-534c-480e-acd5-9711f850815c-1524247202159.png\" width=200>\n",
        "<br></br>\n",
        "<br></br>\n",
        "\n",
        "## *Data Science Unit 4 Sprint 3 Assignment 2*\n",
        "# Convolutional Neural Networks (CNNs)"
      ]
    },
    {
      "cell_type": "markdown",
      "metadata": {
        "colab_type": "text",
        "id": "0lfZdD_cp1t5"
      },
      "source": [
        "# Assignment\n",
        "\n",
        "- <a href=\"#p1\">Part 1:</a> Pre-Trained Model\n",
        "- <a href=\"#p2\">Part 2:</a> Custom CNN Model\n",
        "- <a href=\"#p3\">Part 3:</a> CNN with Data Augmentation\n",
        "\n",
        "\n",
        "You will apply three different CNN models to a binary image classification model using Keras. Classify images of Mountains (`./data/train/mountain/*`) and images of forests (`./data/train/forest/*`). Treat mountains as the positive class (1) and the forest images as the negative (zero). \n",
        "\n",
        "|Mountain (+)|Forest (-)|\n",
        "|---|---|\n",
        "|![](https://github.com/LambdaSchool/DS-Unit-4-Sprint-3-Deep-Learning/blob/main/module2-convolutional-neural-networks/data/train/mountain/art1131.jpg?raw=1)|![](https://github.com/LambdaSchool/DS-Unit-4-Sprint-3-Deep-Learning/blob/main/module2-convolutional-neural-networks/data/validation/forest/cdmc317.jpg?raw=1)|\n",
        "\n",
        "The problem is relatively difficult given that the sample is tiny: there are about 350 observations per class. This sample size might be something that you can expect with prototyping an image classification problem/solution at work. Get accustomed to evaluating several different possible models."
      ]
    },
    {
      "cell_type": "markdown",
      "metadata": {
        "colab_type": "text",
        "id": "1eawBP-otCAb"
      },
      "source": [
        "# Pre - Trained Model\n",
        "<a id=\"p1\"></a>\n",
        "\n",
        "Load a pretrained network from Keras, [ResNet50](https://tfhub.dev/google/imagenet/resnet_v1_50/classification/1) - a 50 layer deep network trained to recognize [1000 objects](https://storage.googleapis.com/download.tensorflow.org/data/ImageNetLabels.txt). Starting usage:\n",
        "\n",
        "```python\n",
        "import numpy as np\n",
        "\n",
        "from tensorflow.keras.applications.resnet50 import ResNet50\n",
        "from tensorflow.keras.preprocessing import image\n",
        "from tensorflow.keras.applications.resnet50 import preprocess_input, decode_predictions\n",
        "\n",
        "from tensorflow.keras.layers import Dense, GlobalAveragePooling2D\n",
        "from tensorflow.keras.models import Model # This is the functional API\n",
        "\n",
        "resnet = ResNet50(weights='imagenet', include_top=False)\n",
        "\n",
        "```\n",
        "\n",
        "The `include_top` parameter in `ResNet50` will remove the full connected layers from the ResNet model. The next step is to turn off the training of the ResNet layers. We want to use the learned parameters without updating them in future training passes. \n",
        "\n",
        "```python\n",
        "for layer in resnet.layers:\n",
        "    layer.trainable = False\n",
        "```\n",
        "\n",
        "Using the Keras functional API, we will need to additional additional full connected layers to our model. We we removed the top layers, we removed all preivous fully connected layers. In other words, we kept only the feature processing portions of our network. You can expert with additional layers beyond what's listed here. The `GlobalAveragePooling2D` layer functions as a really fancy flatten function by taking the average of each of the last convolutional layer outputs (which is two dimensional still). \n",
        "\n",
        "```python\n",
        "x = resnet.output\n",
        "x = GlobalAveragePooling2D()(x) # This layer is a really fancy flatten\n",
        "x = Dense(1024, activation='relu')(x)\n",
        "predictions = Dense(1, activation='sigmoid')(x)\n",
        "model = Model(resnet.input, predictions)\n",
        "```\n",
        "\n",
        "Your assignment is to apply the transfer learning above to classify images of Mountains (`./data/train/mountain/*`) and images of forests (`./data/train/forest/*`). Treat mountains as the positive class (1) and the forest images as the negative (zero). \n",
        "\n",
        "Steps to complete assignment: \n",
        "1. Load in Image Data into numpy arrays (`X`) \n",
        "2. Create a `y` for the labels\n",
        "3. Train your model with pre-trained layers from resnet\n",
        "4. Report your model's accuracy"
      ]
    },
    {
      "cell_type": "code",
      "metadata": {
        "id": "dTtWozArL1VB",
        "colab_type": "code",
        "colab": {
          "base_uri": "https://localhost:8080/",
          "height": 51
        },
        "outputId": "643c0d9b-f988-414a-f18c-cb9ab7bf839f"
      },
      "source": [
        "import numpy as np\n",
        "\n",
        "from tensorflow.keras.applications.resnet50 import ResNet50\n",
        "from tensorflow.keras.preprocessing import image\n",
        "from tensorflow.keras.applications.resnet50 import preprocess_input, decode_predictions\n",
        "\n",
        "from tensorflow.keras.layers import Dense, GlobalAveragePooling2D\n",
        "from tensorflow.keras.models import Model # This is the functional API\n",
        "\n",
        "resnet = ResNet50(weights='imagenet', include_top=False)"
      ],
      "execution_count": 12,
      "outputs": [
        {
          "output_type": "stream",
          "text": [
            "Downloading data from https://storage.googleapis.com/tensorflow/keras-applications/resnet/resnet50_weights_tf_dim_ordering_tf_kernels_notop.h5\n",
            "94773248/94765736 [==============================] - 3s 0us/step\n"
          ],
          "name": "stdout"
        }
      ]
    },
    {
      "cell_type": "code",
      "metadata": {
        "id": "T0vhKjbfL5fI",
        "colab_type": "code",
        "colab": {}
      },
      "source": [
        "for layer in resnet.layers:\n",
        "    layer.trainable = False"
      ],
      "execution_count": 13,
      "outputs": []
    },
    {
      "cell_type": "code",
      "metadata": {
        "id": "jGQl7GINL8cU",
        "colab_type": "code",
        "colab": {}
      },
      "source": [
        "X = resnet.output\n",
        "X = GlobalAveragePooling2D()(X) # This layer is a really fancy flatten\n",
        "X = Dense(1024, activation='relu')(X)\n",
        "predictions = Dense(1, activation='sigmoid')(X)\n",
        "model = Model(resnet.input, predictions)"
      ],
      "execution_count": 15,
      "outputs": []
    },
    {
      "cell_type": "markdown",
      "metadata": {
        "id": "CLdGdXCatCAb",
        "colab_type": "text"
      },
      "source": [
        "## Load in Data\n",
        "\n",
        "This surprisingly more difficult than it seems, because you are working with directories of images instead of a single file. This boiler plate will help you download a zipped version of the directory of images. The directory is organized into \"train\" and \"validation\" which you can use inside an `ImageGenerator` class to stream batches of images thru your model.  \n"
      ]
    },
    {
      "cell_type": "markdown",
      "metadata": {
        "id": "moRVuHUqtCAc",
        "colab_type": "text"
      },
      "source": [
        "### Download & Summarize the Data\n",
        "\n",
        "This step is completed for you. Just run the cells and review the results. "
      ]
    },
    {
      "cell_type": "code",
      "metadata": {
        "id": "AR66H8o9tCAc",
        "colab_type": "code",
        "colab": {
          "base_uri": "https://localhost:8080/",
          "height": 51
        },
        "outputId": "03b9404d-f288-41c3-88bc-2039eca90fce"
      },
      "source": [
        "import tensorflow as tf\n",
        "import os\n",
        "\n",
        "_URL = 'https://github.com/LambdaSchool/DS-Unit-4-Sprint-3-Deep-Learning/blob/main/module2-convolutional-neural-networks/data.zip?raw=true'\n",
        "\n",
        "path_to_zip = tf.keras.utils.get_file('./data.zip', origin=_URL, extract=True)\n",
        "PATH = os.path.join(os.path.dirname(path_to_zip), 'data')"
      ],
      "execution_count": 1,
      "outputs": [
        {
          "output_type": "stream",
          "text": [
            "Downloading data from https://github.com/LambdaSchool/DS-Unit-4-Sprint-3-Deep-Learning/blob/main/module2-convolutional-neural-networks/data.zip?raw=true\n",
            "42172416/42170838 [==============================] - 1s 0us/step\n"
          ],
          "name": "stdout"
        }
      ]
    },
    {
      "cell_type": "code",
      "metadata": {
        "id": "MNFsIu_KtCAg",
        "colab_type": "code",
        "colab": {}
      },
      "source": [
        "train_dir = os.path.join(PATH, 'train')\n",
        "validation_dir = os.path.join(PATH, 'validation')"
      ],
      "execution_count": 2,
      "outputs": []
    },
    {
      "cell_type": "code",
      "metadata": {
        "id": "OsI9BQLotCAj",
        "colab_type": "code",
        "colab": {}
      },
      "source": [
        "train_mountain_dir = os.path.join(train_dir, 'mountain')  # directory with our training cat pictures\n",
        "train_forest_dir = os.path.join(train_dir, 'forest')  # directory with our training dog pictures\n",
        "validation_mountain_dir = os.path.join(validation_dir, 'mountain')  # directory with our validation cat pictures\n",
        "validation_forest_dir = os.path.join(validation_dir, 'forest')  # directory with our validation dog pictures"
      ],
      "execution_count": 3,
      "outputs": []
    },
    {
      "cell_type": "code",
      "metadata": {
        "id": "NUs1e5-XtCAl",
        "colab_type": "code",
        "colab": {}
      },
      "source": [
        "num_mountain_tr = len(os.listdir(train_mountain_dir))\n",
        "num_forest_tr = len(os.listdir(train_forest_dir))\n",
        "\n",
        "num_mountain_val = len(os.listdir(validation_mountain_dir))\n",
        "num_forest_val = len(os.listdir(validation_forest_dir))\n",
        "\n",
        "total_train = num_mountain_tr + num_forest_tr\n",
        "total_val = num_mountain_val + num_forest_val"
      ],
      "execution_count": 4,
      "outputs": []
    },
    {
      "cell_type": "code",
      "metadata": {
        "id": "ZmklbgSMtCAn",
        "colab_type": "code",
        "colab": {
          "base_uri": "https://localhost:8080/",
          "height": 136
        },
        "outputId": "504e0f4a-3043-4296-f198-7a08a615f9ff"
      },
      "source": [
        "print('total training mountain images:', num_mountain_tr)\n",
        "print('total training forest images:', num_forest_tr)\n",
        "\n",
        "print('total validation mountain images:', num_mountain_val)\n",
        "print('total validation forest images:', num_forest_val)\n",
        "print(\"--\")\n",
        "print(\"Total training images:\", total_train)\n",
        "print(\"Total validation images:\", total_val)"
      ],
      "execution_count": 6,
      "outputs": [
        {
          "output_type": "stream",
          "text": [
            "total training mountain images: 254\n",
            "total training forest images: 270\n",
            "total validation mountain images: 125\n",
            "total validation forest images: 62\n",
            "--\n",
            "Total training images: 524\n",
            "Total validation images: 187\n"
          ],
          "name": "stdout"
        }
      ]
    },
    {
      "cell_type": "markdown",
      "metadata": {
        "id": "dQ4ag4ultCAq",
        "colab_type": "text"
      },
      "source": [
        "### Keras `ImageGenerator` to Process the Data\n",
        "\n",
        "This step is completed for you, but please review the code. The `ImageGenerator` class reads in batches of data from a directory and pass them to the model one batch at a time. Just like large text files, this method is advantageous, because it stifles the need to load a bunch of images into memory. \n",
        "\n",
        "Check out the documentation for this class method: [Keras `ImageGenerator` Class](https://keras.io/preprocessing/image/#imagedatagenerator-class). You'll expand it's use in the third assignment objective."
      ]
    },
    {
      "cell_type": "code",
      "metadata": {
        "id": "67i9IW49tCAq",
        "colab_type": "code",
        "colab": {}
      },
      "source": [
        "batch_size = 16\n",
        "epochs = 50\n",
        "IMG_HEIGHT = 224\n",
        "IMG_WIDTH = 224"
      ],
      "execution_count": 18,
      "outputs": []
    },
    {
      "cell_type": "code",
      "metadata": {
        "id": "B1wNKMo1tCAt",
        "colab_type": "code",
        "colab": {}
      },
      "source": [
        "from tensorflow.keras.preprocessing.image import ImageDataGenerator\n",
        "\n",
        "train_image_generator = ImageDataGenerator(rescale=1./255) # Generator for our training data\n",
        "validation_image_generator = ImageDataGenerator(rescale=1./255) # Generator for our validation data"
      ],
      "execution_count": 19,
      "outputs": []
    },
    {
      "cell_type": "code",
      "metadata": {
        "id": "ndsuM4L9tCAv",
        "colab_type": "code",
        "colab": {
          "base_uri": "https://localhost:8080/",
          "height": 34
        },
        "outputId": "629e0789-be0f-4657-9b6f-4f97bd240121"
      },
      "source": [
        "train_data_gen = train_image_generator.flow_from_directory(batch_size=batch_size,\n",
        "                                                           directory=train_dir,\n",
        "                                                           shuffle=True,\n",
        "                                                           target_size=(IMG_HEIGHT, IMG_WIDTH),\n",
        "                                                           class_mode='binary')"
      ],
      "execution_count": 20,
      "outputs": [
        {
          "output_type": "stream",
          "text": [
            "Found 533 images belonging to 2 classes.\n"
          ],
          "name": "stdout"
        }
      ]
    },
    {
      "cell_type": "code",
      "metadata": {
        "id": "9kxlk3optCAy",
        "colab_type": "code",
        "colab": {
          "base_uri": "https://localhost:8080/",
          "height": 34
        },
        "outputId": "07041f6d-c153-4308-9a42-ec839281dc1d"
      },
      "source": [
        "val_data_gen = validation_image_generator.flow_from_directory(batch_size=batch_size,\n",
        "                                                              directory=validation_dir,\n",
        "                                                              target_size=(IMG_HEIGHT, IMG_WIDTH),\n",
        "                                                              class_mode='binary')"
      ],
      "execution_count": 21,
      "outputs": [
        {
          "output_type": "stream",
          "text": [
            "Found 195 images belonging to 2 classes.\n"
          ],
          "name": "stdout"
        }
      ]
    },
    {
      "cell_type": "markdown",
      "metadata": {
        "id": "2l7ue6NutCA0",
        "colab_type": "text"
      },
      "source": [
        "## Instatiate Model"
      ]
    },
    {
      "cell_type": "code",
      "metadata": {
        "id": "mKNIYOEItCA0",
        "colab_type": "code",
        "colab": {}
      },
      "source": [
        "baseModel = ResNet50(weights='imagenet', include_top=False)\n",
        "\n",
        "for layer in baseModel.layers:\n",
        "    layer.trainable = False\n",
        "\n",
        "X = baseModel.output\n",
        "X = GlobalAveragePooling2D()(X)\n",
        "X = Dense(1024, activation='relu')(X)\n",
        "predictions = Dense(1, activation='sigmoid')(X)\n",
        "model = Model(baseModel.input, predictions)\n",
        "\n",
        "model.compile(optimizer='adam', loss='binary_crossentropy', metrics=['accuracy'])"
      ],
      "execution_count": 22,
      "outputs": []
    },
    {
      "cell_type": "markdown",
      "metadata": {
        "id": "BVPBWYG7tCA2",
        "colab_type": "text"
      },
      "source": [
        "## Fit Model"
      ]
    },
    {
      "cell_type": "code",
      "metadata": {
        "id": "H4XdvWA5tCA3",
        "colab_type": "code",
        "colab": {
          "base_uri": "https://localhost:8080/",
          "height": 1000
        },
        "outputId": "c5ea3660-c44c-4c5b-e1bf-cd51efb5559e"
      },
      "source": [
        "history = model.fit(\n",
        "    train_data_gen,\n",
        "    steps_per_epoch=total_train // batch_size,\n",
        "    epochs=epochs,\n",
        "    validation_data=val_data_gen,\n",
        "    validation_steps=total_val // batch_size\n",
        ")"
      ],
      "execution_count": 23,
      "outputs": [
        {
          "output_type": "stream",
          "text": [
            "Epoch 1/50\n",
            "32/32 [==============================] - 99s 3s/step - loss: 0.8400 - accuracy: 0.5409 - val_loss: 0.6350 - val_accuracy: 0.7784\n",
            "Epoch 2/50\n",
            "32/32 [==============================] - 100s 3s/step - loss: 0.6127 - accuracy: 0.6347 - val_loss: 0.8141 - val_accuracy: 0.3920\n",
            "Epoch 3/50\n",
            "32/32 [==============================] - 98s 3s/step - loss: 0.5632 - accuracy: 0.7066 - val_loss: 0.7214 - val_accuracy: 0.4773\n",
            "Epoch 4/50\n",
            "32/32 [==============================] - 98s 3s/step - loss: 0.4870 - accuracy: 0.7745 - val_loss: 0.6718 - val_accuracy: 0.5682\n",
            "Epoch 5/50\n",
            "32/32 [==============================] - 99s 3s/step - loss: 0.4694 - accuracy: 0.7705 - val_loss: 0.4306 - val_accuracy: 0.8580\n",
            "Epoch 6/50\n",
            "32/32 [==============================] - 100s 3s/step - loss: 0.3998 - accuracy: 0.8563 - val_loss: 0.4629 - val_accuracy: 0.8125\n",
            "Epoch 7/50\n",
            "32/32 [==============================] - 98s 3s/step - loss: 0.3761 - accuracy: 0.8703 - val_loss: 0.3563 - val_accuracy: 0.8977\n",
            "Epoch 8/50\n",
            "32/32 [==============================] - 100s 3s/step - loss: 0.4072 - accuracy: 0.8044 - val_loss: 0.3809 - val_accuracy: 0.8580\n",
            "Epoch 9/50\n",
            "32/32 [==============================] - 99s 3s/step - loss: 0.3016 - accuracy: 0.9162 - val_loss: 0.3317 - val_accuracy: 0.8750\n",
            "Epoch 10/50\n",
            "32/32 [==============================] - 101s 3s/step - loss: 0.3188 - accuracy: 0.8862 - val_loss: 0.4623 - val_accuracy: 0.8239\n",
            "Epoch 11/50\n",
            "32/32 [==============================] - 97s 3s/step - loss: 0.3051 - accuracy: 0.8842 - val_loss: 0.5189 - val_accuracy: 0.7784\n",
            "Epoch 12/50\n",
            "32/32 [==============================] - 98s 3s/step - loss: 0.2733 - accuracy: 0.8962 - val_loss: 0.3762 - val_accuracy: 0.8466\n",
            "Epoch 13/50\n",
            "32/32 [==============================] - 98s 3s/step - loss: 0.2956 - accuracy: 0.8862 - val_loss: 0.4966 - val_accuracy: 0.8068\n",
            "Epoch 14/50\n",
            "32/32 [==============================] - 98s 3s/step - loss: 0.2631 - accuracy: 0.8862 - val_loss: 0.2794 - val_accuracy: 0.9148\n",
            "Epoch 15/50\n",
            "32/32 [==============================] - 98s 3s/step - loss: 0.2284 - accuracy: 0.9202 - val_loss: 0.4232 - val_accuracy: 0.8295\n",
            "Epoch 16/50\n",
            "32/32 [==============================] - 100s 3s/step - loss: 0.2635 - accuracy: 0.8822 - val_loss: 0.8292 - val_accuracy: 0.6023\n",
            "Epoch 17/50\n",
            "32/32 [==============================] - 99s 3s/step - loss: 0.2452 - accuracy: 0.9082 - val_loss: 0.2742 - val_accuracy: 0.8920\n",
            "Epoch 18/50\n",
            "32/32 [==============================] - 98s 3s/step - loss: 0.1853 - accuracy: 0.9441 - val_loss: 0.2431 - val_accuracy: 0.9318\n",
            "Epoch 19/50\n",
            "32/32 [==============================] - 98s 3s/step - loss: 0.1967 - accuracy: 0.9301 - val_loss: 0.2453 - val_accuracy: 0.8977\n",
            "Epoch 20/50\n",
            "32/32 [==============================] - 98s 3s/step - loss: 0.1781 - accuracy: 0.9401 - val_loss: 0.3026 - val_accuracy: 0.8693\n",
            "Epoch 21/50\n",
            "32/32 [==============================] - 98s 3s/step - loss: 0.1655 - accuracy: 0.9421 - val_loss: 0.3424 - val_accuracy: 0.8466\n",
            "Epoch 22/50\n",
            "32/32 [==============================] - 98s 3s/step - loss: 0.2029 - accuracy: 0.9222 - val_loss: 0.2169 - val_accuracy: 0.9432\n",
            "Epoch 23/50\n",
            "32/32 [==============================] - 101s 3s/step - loss: 0.1726 - accuracy: 0.9321 - val_loss: 0.2242 - val_accuracy: 0.9034\n",
            "Epoch 24/50\n",
            "32/32 [==============================] - 98s 3s/step - loss: 0.1777 - accuracy: 0.9242 - val_loss: 0.2332 - val_accuracy: 0.9261\n",
            "Epoch 25/50\n",
            "32/32 [==============================] - 99s 3s/step - loss: 0.1516 - accuracy: 0.9492 - val_loss: 0.2288 - val_accuracy: 0.9318\n",
            "Epoch 26/50\n",
            "32/32 [==============================] - 98s 3s/step - loss: 0.1881 - accuracy: 0.9182 - val_loss: 0.3843 - val_accuracy: 0.8466\n",
            "Epoch 27/50\n",
            "32/32 [==============================] - 98s 3s/step - loss: 0.1469 - accuracy: 0.9441 - val_loss: 0.5331 - val_accuracy: 0.7727\n",
            "Epoch 28/50\n",
            "32/32 [==============================] - 97s 3s/step - loss: 0.2032 - accuracy: 0.9102 - val_loss: 0.3379 - val_accuracy: 0.8523\n",
            "Epoch 29/50\n",
            "32/32 [==============================] - 102s 3s/step - loss: 0.1628 - accuracy: 0.9361 - val_loss: 0.3204 - val_accuracy: 0.8523\n",
            "Epoch 30/50\n",
            "32/32 [==============================] - 97s 3s/step - loss: 0.2630 - accuracy: 0.9062 - val_loss: 0.2927 - val_accuracy: 0.8523\n",
            "Epoch 31/50\n",
            "32/32 [==============================] - 97s 3s/step - loss: 0.1911 - accuracy: 0.9202 - val_loss: 0.3995 - val_accuracy: 0.8466\n",
            "Epoch 32/50\n",
            "32/32 [==============================] - 99s 3s/step - loss: 0.1800 - accuracy: 0.9182 - val_loss: 0.2061 - val_accuracy: 0.9034\n",
            "Epoch 33/50\n",
            "32/32 [==============================] - 99s 3s/step - loss: 0.1021 - accuracy: 0.9668 - val_loss: 0.1988 - val_accuracy: 0.9432\n",
            "Epoch 34/50\n",
            "32/32 [==============================] - 97s 3s/step - loss: 0.1070 - accuracy: 0.9681 - val_loss: 0.4748 - val_accuracy: 0.8182\n",
            "Epoch 35/50\n",
            "32/32 [==============================] - 97s 3s/step - loss: 0.1215 - accuracy: 0.9501 - val_loss: 0.1867 - val_accuracy: 0.9432\n",
            "Epoch 36/50\n",
            "32/32 [==============================] - 97s 3s/step - loss: 0.1077 - accuracy: 0.9581 - val_loss: 0.2846 - val_accuracy: 0.8750\n",
            "Epoch 37/50\n",
            "32/32 [==============================] - 97s 3s/step - loss: 0.1045 - accuracy: 0.9641 - val_loss: 0.3619 - val_accuracy: 0.8580\n",
            "Epoch 38/50\n",
            "32/32 [==============================] - 97s 3s/step - loss: 0.1217 - accuracy: 0.9521 - val_loss: 0.1907 - val_accuracy: 0.9375\n",
            "Epoch 39/50\n",
            "32/32 [==============================] - 97s 3s/step - loss: 0.0810 - accuracy: 0.9780 - val_loss: 0.1925 - val_accuracy: 0.9432\n",
            "Epoch 40/50\n",
            "32/32 [==============================] - 97s 3s/step - loss: 0.1031 - accuracy: 0.9621 - val_loss: 0.3219 - val_accuracy: 0.8807\n",
            "Epoch 41/50\n",
            "32/32 [==============================] - 97s 3s/step - loss: 0.0800 - accuracy: 0.9721 - val_loss: 0.3027 - val_accuracy: 0.8693\n",
            "Epoch 42/50\n",
            "32/32 [==============================] - 97s 3s/step - loss: 0.0907 - accuracy: 0.9661 - val_loss: 0.2144 - val_accuracy: 0.9318\n",
            "Epoch 43/50\n",
            "32/32 [==============================] - 97s 3s/step - loss: 0.0926 - accuracy: 0.9721 - val_loss: 0.1700 - val_accuracy: 0.9545\n",
            "Epoch 44/50\n",
            "32/32 [==============================] - 97s 3s/step - loss: 0.0796 - accuracy: 0.9741 - val_loss: 0.1903 - val_accuracy: 0.9375\n",
            "Epoch 45/50\n",
            "32/32 [==============================] - 98s 3s/step - loss: 0.0667 - accuracy: 0.9820 - val_loss: 0.1995 - val_accuracy: 0.9432\n",
            "Epoch 46/50\n",
            "32/32 [==============================] - 103s 3s/step - loss: 0.1663 - accuracy: 0.9222 - val_loss: 0.1955 - val_accuracy: 0.9375\n",
            "Epoch 47/50\n",
            "32/32 [==============================] - 98s 3s/step - loss: 0.0775 - accuracy: 0.9681 - val_loss: 0.2197 - val_accuracy: 0.9091\n",
            "Epoch 48/50\n",
            "32/32 [==============================] - 97s 3s/step - loss: 0.0991 - accuracy: 0.9601 - val_loss: 0.2973 - val_accuracy: 0.8750\n",
            "Epoch 49/50\n",
            "32/32 [==============================] - 98s 3s/step - loss: 0.0747 - accuracy: 0.9741 - val_loss: 0.2067 - val_accuracy: 0.9432\n",
            "Epoch 50/50\n",
            "32/32 [==============================] - 97s 3s/step - loss: 0.1189 - accuracy: 0.9561 - val_loss: 0.7990 - val_accuracy: 0.7273\n"
          ],
          "name": "stdout"
        }
      ]
    },
    {
      "cell_type": "markdown",
      "metadata": {
        "id": "UPzsgS94tCA5",
        "colab_type": "text"
      },
      "source": [
        "# Custom CNN Model\n",
        "\n",
        "In this step, write and train your own convolutional neural network using Keras. You can use any architecture that suits you as long as it has at least one convolutional and one pooling layer at the beginning of the network - you can add more if you want. "
      ]
    },
    {
      "cell_type": "code",
      "metadata": {
        "id": "hnbJJie3tCA5",
        "colab_type": "code",
        "colab": {}
      },
      "source": [
        "from keras.preprocessing.image import ImageDataGenerator\n",
        "\n",
        "datagen = ImageDataGenerator(\n",
        "        rotation_range=40,\n",
        "        width_shift_range=0.2,\n",
        "        height_shift_range=0.2,\n",
        "        rescale=1./255,\n",
        "        shear_range=0.2,\n",
        "        zoom_range=0.2,\n",
        "        horizontal_flip=True,\n",
        "        fill_mode='nearest')"
      ],
      "execution_count": 24,
      "outputs": []
    },
    {
      "cell_type": "code",
      "metadata": {
        "id": "1P_mRtoutCA9",
        "colab_type": "code",
        "colab": {
          "base_uri": "https://localhost:8080/",
          "height": 425
        },
        "outputId": "436aca1e-1913-41d5-d21c-944d8fc5ce85"
      },
      "source": [
        "from tensorflow.keras.models import Sequential, Model # <- May Use\n",
        "from tensorflow.keras.layers import Dense, Conv2D, MaxPooling2D, Flatten\n",
        "\n",
        "model = Sequential()\n",
        "model.add(Conv2D(32, (3,3), activation='relu', input_shape=(256,256,3)))\n",
        "model.add(MaxPooling2D((2,2)))\n",
        "model.add(Conv2D(32, (3,3), activation='relu'))\n",
        "model.add(MaxPooling2D((2,2)))\n",
        "model.add(Conv2D(64, (3,3), activation='relu'))\n",
        "model.add(Flatten())\n",
        "model.add(Dense(64, activation='relu'))\n",
        "# model.add(Dropout(0.5))\n",
        "# model.add(Dense(1))\n",
        "model.add(Dense(1, activation='sigmoid'))\n",
        "\n",
        "model.summary()"
      ],
      "execution_count": 25,
      "outputs": [
        {
          "output_type": "stream",
          "text": [
            "Model: \"sequential\"\n",
            "_________________________________________________________________\n",
            "Layer (type)                 Output Shape              Param #   \n",
            "=================================================================\n",
            "conv2d (Conv2D)              (None, 254, 254, 32)      896       \n",
            "_________________________________________________________________\n",
            "max_pooling2d (MaxPooling2D) (None, 127, 127, 32)      0         \n",
            "_________________________________________________________________\n",
            "conv2d_1 (Conv2D)            (None, 125, 125, 32)      9248      \n",
            "_________________________________________________________________\n",
            "max_pooling2d_1 (MaxPooling2 (None, 62, 62, 32)        0         \n",
            "_________________________________________________________________\n",
            "conv2d_2 (Conv2D)            (None, 60, 60, 64)        18496     \n",
            "_________________________________________________________________\n",
            "flatten (Flatten)            (None, 230400)            0         \n",
            "_________________________________________________________________\n",
            "dense_6 (Dense)              (None, 64)                14745664  \n",
            "_________________________________________________________________\n",
            "dense_7 (Dense)              (None, 1)                 65        \n",
            "=================================================================\n",
            "Total params: 14,774,369\n",
            "Trainable params: 14,774,369\n",
            "Non-trainable params: 0\n",
            "_________________________________________________________________\n"
          ],
          "name": "stdout"
        }
      ]
    },
    {
      "cell_type": "code",
      "metadata": {
        "id": "CwM4GsaetCA_",
        "colab_type": "code",
        "colab": {}
      },
      "source": [
        "model.compile(optimizer='rmsprop', loss='binary_crossentropy', metrics=['accuracy'])"
      ],
      "execution_count": 26,
      "outputs": []
    },
    {
      "cell_type": "code",
      "metadata": {
        "id": "vmqzf1B3g2ip",
        "colab_type": "code",
        "colab": {}
      },
      "source": [
        "model.fit(X_train, y_train, epochs=3, validation_data=(X_test, y_test))"
      ],
      "execution_count": null,
      "outputs": []
    },
    {
      "cell_type": "markdown",
      "metadata": {
        "id": "FNTHjUddtCBB",
        "colab_type": "text"
      },
      "source": [
        "# Custom CNN Model with Image Manipulations\n",
        "\n",
        "To simulate an increase in a sample of image, you can apply image manipulation techniques: cropping, rotation, stretching, etc. Luckily Keras has some handy functions for us to apply these techniques to our mountain and forest example. Simply, you should be able to modify our image generator for the problem. Check out these resources to help you get started: \n",
        "\n",
        "1. [Keras `ImageGenerator` Class](https://keras.io/preprocessing/image/#imagedatagenerator-class)\n",
        "2. [Building a powerful image classifier with very little data](https://blog.keras.io/building-powerful-image-classification-models-using-very-little-data.html)\n",
        " "
      ]
    },
    {
      "cell_type": "code",
      "metadata": {
        "id": "XKioBv3WtCBB",
        "colab_type": "code",
        "colab": {}
      },
      "source": [
        ""
      ],
      "execution_count": null,
      "outputs": []
    },
    {
      "cell_type": "markdown",
      "metadata": {
        "colab_type": "text",
        "id": "uT3UV3gap9H6"
      },
      "source": [
        "# Resources and Stretch Goals\n",
        "\n",
        "Stretch goals\n",
        "- Enhance your code to use classes/functions and accept terms to search and classes to look for in recognizing the downloaded images (e.g. download images of parties, recognize all that contain balloons)\n",
        "- Check out [other available pretrained networks](https://tfhub.dev), try some and compare\n",
        "- Image recognition/classification is somewhat solved, but *relationships* between entities and describing an image is not - check out some of the extended resources (e.g. [Visual Genome](https://visualgenome.org/)) on the topic\n",
        "- Transfer learning - using images you source yourself, [retrain a classifier](https://www.tensorflow.org/hub/tutorials/image_retraining) with a new category\n",
        "- (Not CNN related) Use [piexif](https://pypi.org/project/piexif/) to check out the metadata of images passed in to your system - see if they're from a national park! (Note - many images lack GPS metadata, so this won't work in most cases, but still cool)\n",
        "\n",
        "Resources\n",
        "- [Deep Residual Learning for Image Recognition](https://arxiv.org/abs/1512.03385) - influential paper (introduced ResNet)\n",
        "- [YOLO: Real-Time Object Detection](https://pjreddie.com/darknet/yolo/) - an influential convolution based object detection system, focused on inference speed (for applications to e.g. self driving vehicles)\n",
        "- [R-CNN, Fast R-CNN, Faster R-CNN, YOLO](https://towardsdatascience.com/r-cnn-fast-r-cnn-faster-r-cnn-yolo-object-detection-algorithms-36d53571365e) - comparison of object detection systems\n",
        "- [Common Objects in Context](http://cocodataset.org/) - a large-scale object detection, segmentation, and captioning dataset\n",
        "- [Visual Genome](https://visualgenome.org/) - a dataset, a knowledge base, an ongoing effort to connect structured image concepts to language"
      ]
    }
  ]
}