{
  "nbformat": 4,
  "nbformat_minor": 0,
  "metadata": {
    "kernelspec": {
      "display_name": "U4-S2-NNF-DS10",
      "language": "python",
      "name": "u4-s2-nnf-ds10"
    },
    "language_info": {
      "codemirror_mode": {
        "name": "ipython",
        "version": 3
      },
      "file_extension": ".py",
      "mimetype": "text/x-python",
      "name": "python",
      "nbconvert_exporter": "python",
      "pygments_lexer": "ipython3",
      "version": "3.7.6"
    },
    "nteract": {
      "version": "0.23.1"
    },
    "colab": {
      "name": "LS_DSPT8_432_Convolution_Neural_Networks_Assignment.ipynb",
      "provenance": []
    }
  },
  "cells": [
    {
      "cell_type": "markdown",
      "metadata": {
        "id": "fc4yMj7mtCAZ"
      },
      "source": [
        "<img align=\"left\" src=\"https://lever-client-logos.s3.amazonaws.com/864372b1-534c-480e-acd5-9711f850815c-1524247202159.png\" width=200>\n",
        "<br></br>\n",
        "<br></br>\n",
        "\n",
        "## *Data Science Unit 4 Sprint 3 Assignment 2*\n",
        "# Convolutional Neural Networks (CNNs)"
      ]
    },
    {
      "cell_type": "markdown",
      "metadata": {
        "id": "0lfZdD_cp1t5"
      },
      "source": [
        "# Assignment\n",
        "\n",
        "- <a href=\"#p1\">Part 1:</a> Pre-Trained Model\n",
        "- <a href=\"#p2\">Part 2:</a> Custom CNN Model\n",
        "- <a href=\"#p3\">Part 3:</a> CNN with Data Augmentation\n",
        "\n",
        "\n",
        "You will apply three different CNN models to a binary image classification model using Keras. Classify images of Mountains (`./data/train/mountain/*`) and images of forests (`./data/train/forest/*`). Treat mountains as the positive class (1) and the forest images as the negative (zero). \n",
        "\n",
        "|Mountain (+)|Forest (-)|\n",
        "|---|---|\n",
        "|![](https://github.com/LambdaSchool/DS-Unit-4-Sprint-3-Deep-Learning/blob/main/module2-convolutional-neural-networks/data/train/mountain/art1131.jpg?raw=1)|![](https://github.com/LambdaSchool/DS-Unit-4-Sprint-3-Deep-Learning/blob/main/module2-convolutional-neural-networks/data/validation/forest/cdmc317.jpg?raw=1)|\n",
        "\n",
        "The problem is relatively difficult given that the sample is tiny: there are about 350 observations per class. This sample size might be something that you can expect with prototyping an image classification problem/solution at work. Get accustomed to evaluating several different possible models."
      ]
    },
    {
      "cell_type": "markdown",
      "metadata": {
        "id": "1eawBP-otCAb"
      },
      "source": [
        "# Pre - Trained Model\n",
        "<a id=\"p1\"></a>\n",
        "\n",
        "Load a pretrained network from Keras, [ResNet50](https://tfhub.dev/google/imagenet/resnet_v1_50/classification/1) - a 50 layer deep network trained to recognize [1000 objects](https://storage.googleapis.com/download.tensorflow.org/data/ImageNetLabels.txt). Starting usage:\n",
        "\n",
        "```python\n",
        "import numpy as np\n",
        "\n",
        "from tensorflow.keras.applications.resnet50 import ResNet50\n",
        "from tensorflow.keras.preprocessing import image\n",
        "from tensorflow.keras.applications.resnet50 import preprocess_input, decode_predictions\n",
        "\n",
        "from tensorflow.keras.layers import Dense, GlobalAveragePooling2D\n",
        "from tensorflow.keras.models import Model # This is the functional API\n",
        "\n",
        "resnet = ResNet50(weights='imagenet', include_top=False)\n",
        "\n",
        "```\n",
        "\n",
        "The `include_top` parameter in `ResNet50` will remove the full connected layers from the ResNet model. The next step is to turn off the training of the ResNet layers. We want to use the learned parameters without updating them in future training passes. \n",
        "\n",
        "```python\n",
        "for layer in resnet.layers:\n",
        "    layer.trainable = False\n",
        "```\n",
        "\n",
        "Using the Keras functional API, we will need to additional additional full connected layers to our model. We we removed the top layers, we removed all preivous fully connected layers. In other words, we kept only the feature processing portions of our network. You can expert with additional layers beyond what's listed here. The `GlobalAveragePooling2D` layer functions as a really fancy flatten function by taking the average of each of the last convolutional layer outputs (which is two dimensional still). \n",
        "\n",
        "```python\n",
        "x = resnet.output\n",
        "x = GlobalAveragePooling2D()(x) # This layer is a really fancy flatten\n",
        "x = Dense(1024, activation='relu')(x)\n",
        "predictions = Dense(1, activation='sigmoid')(x)\n",
        "model = Model(resnet.input, predictions)\n",
        "```\n",
        "\n",
        "Your assignment is to apply the transfer learning above to classify images of Mountains (`./data/train/mountain/*`) and images of forests (`./data/train/forest/*`). Treat mountains as the positive class (1) and the forest images as the negative (zero). \n",
        "\n",
        "Steps to complete assignment: \n",
        "1. Load in Image Data into numpy arrays (`X`) \n",
        "2. Create a `y` for the labels\n",
        "3. Train your model with pre-trained layers from resnet\n",
        "4. Report your model's accuracy"
      ]
    },
    {
      "cell_type": "code",
      "metadata": {
        "id": "dTtWozArL1VB"
      },
      "source": [
        "import numpy as np\n",
        "\n",
        "from tensorflow.keras.applications.resnet50 import ResNet50\n",
        "from tensorflow.keras.preprocessing import image\n",
        "from tensorflow.keras.applications.resnet50 import preprocess_input, decode_predictions\n",
        "\n",
        "from tensorflow.keras.layers import Dense, GlobalAveragePooling2D\n",
        "from tensorflow.keras.models import Model # This is the functional API\n",
        "\n",
        "resnet = ResNet50(weights='imagenet', include_top=False)"
      ],
      "execution_count": 1,
      "outputs": []
    },
    {
      "cell_type": "code",
      "metadata": {
        "id": "T0vhKjbfL5fI"
      },
      "source": [
        "for layer in resnet.layers:\n",
        "    layer.trainable = False"
      ],
      "execution_count": 2,
      "outputs": []
    },
    {
      "cell_type": "code",
      "metadata": {
        "id": "jGQl7GINL8cU"
      },
      "source": [
        "X = resnet.output\n",
        "X = GlobalAveragePooling2D()(X) # This layer is a really fancy flatten\n",
        "X = Dense(1024, activation='relu')(X)\n",
        "predictions = Dense(1, activation='sigmoid')(X)\n",
        "model = Model(resnet.input, predictions)"
      ],
      "execution_count": 3,
      "outputs": []
    },
    {
      "cell_type": "markdown",
      "metadata": {
        "id": "CLdGdXCatCAb"
      },
      "source": [
        "## Load in Data\n",
        "\n",
        "This surprisingly more difficult than it seems, because you are working with directories of images instead of a single file. This boiler plate will help you download a zipped version of the directory of images. The directory is organized into \"train\" and \"validation\" which you can use inside an `ImageGenerator` class to stream batches of images thru your model.  \n"
      ]
    },
    {
      "cell_type": "markdown",
      "metadata": {
        "id": "moRVuHUqtCAc"
      },
      "source": [
        "### Download & Summarize the Data\n",
        "\n",
        "This step is completed for you. Just run the cells and review the results. "
      ]
    },
    {
      "cell_type": "code",
      "metadata": {
        "id": "AR66H8o9tCAc",
        "colab": {
          "base_uri": "https://localhost:8080/"
        },
        "outputId": "dc38df36-575c-442e-a418-6f99c29cf6d7"
      },
      "source": [
        "import tensorflow as tf\n",
        "import os\n",
        "\n",
        "_URL = 'https://github.com/LambdaSchool/DS-Unit-4-Sprint-3-Deep-Learning/blob/main/module2-convolutional-neural-networks/data.zip?raw=true'\n",
        "\n",
        "path_to_zip = tf.keras.utils.get_file('./data.zip', origin=_URL, extract=True)\n",
        "PATH = os.path.join(os.path.dirname(path_to_zip), 'data')"
      ],
      "execution_count": 4,
      "outputs": [
        {
          "output_type": "stream",
          "text": [
            "Downloading data from https://github.com/LambdaSchool/DS-Unit-4-Sprint-3-Deep-Learning/blob/main/module2-convolutional-neural-networks/data.zip?raw=true\n",
            "42172416/42170838 [==============================] - 0s 0us/step\n"
          ],
          "name": "stdout"
        }
      ]
    },
    {
      "cell_type": "code",
      "metadata": {
        "id": "MNFsIu_KtCAg"
      },
      "source": [
        "train_dir = os.path.join(PATH, 'train')\n",
        "validation_dir = os.path.join(PATH, 'validation')"
      ],
      "execution_count": 5,
      "outputs": []
    },
    {
      "cell_type": "code",
      "metadata": {
        "id": "OsI9BQLotCAj"
      },
      "source": [
        "train_mountain_dir = os.path.join(train_dir, 'mountain')  # directory with our training cat pictures\n",
        "train_forest_dir = os.path.join(train_dir, 'forest')  # directory with our training dog pictures\n",
        "validation_mountain_dir = os.path.join(validation_dir, 'mountain')  # directory with our validation cat pictures\n",
        "validation_forest_dir = os.path.join(validation_dir, 'forest')  # directory with our validation dog pictures"
      ],
      "execution_count": 6,
      "outputs": []
    },
    {
      "cell_type": "code",
      "metadata": {
        "id": "NUs1e5-XtCAl"
      },
      "source": [
        "num_mountain_tr = len(os.listdir(train_mountain_dir))\n",
        "num_forest_tr = len(os.listdir(train_forest_dir))\n",
        "\n",
        "num_mountain_val = len(os.listdir(validation_mountain_dir))\n",
        "num_forest_val = len(os.listdir(validation_forest_dir))\n",
        "\n",
        "total_train = num_mountain_tr + num_forest_tr\n",
        "total_val = num_mountain_val + num_forest_val"
      ],
      "execution_count": 7,
      "outputs": []
    },
    {
      "cell_type": "code",
      "metadata": {
        "id": "ZmklbgSMtCAn",
        "colab": {
          "base_uri": "https://localhost:8080/"
        },
        "outputId": "2321880c-2de4-49b3-a048-54448a181959"
      },
      "source": [
        "print('total training mountain images:', num_mountain_tr)\n",
        "print('total training forest images:', num_forest_tr)\n",
        "\n",
        "print('total validation mountain images:', num_mountain_val)\n",
        "print('total validation forest images:', num_forest_val)\n",
        "print(\"--\")\n",
        "print(\"Total training images:\", total_train)\n",
        "print(\"Total validation images:\", total_val)"
      ],
      "execution_count": 8,
      "outputs": [
        {
          "output_type": "stream",
          "text": [
            "total training mountain images: 254\n",
            "total training forest images: 270\n",
            "total validation mountain images: 125\n",
            "total validation forest images: 62\n",
            "--\n",
            "Total training images: 524\n",
            "Total validation images: 187\n"
          ],
          "name": "stdout"
        }
      ]
    },
    {
      "cell_type": "markdown",
      "metadata": {
        "id": "dQ4ag4ultCAq"
      },
      "source": [
        "### Keras `ImageGenerator` to Process the Data\n",
        "\n",
        "This step is completed for you, but please review the code. The `ImageGenerator` class reads in batches of data from a directory and pass them to the model one batch at a time. Just like large text files, this method is advantageous, because it stifles the need to load a bunch of images into memory. \n",
        "\n",
        "Check out the documentation for this class method: [Keras `ImageGenerator` Class](https://keras.io/preprocessing/image/#imagedatagenerator-class). You'll expand it's use in the third assignment objective."
      ]
    },
    {
      "cell_type": "code",
      "metadata": {
        "id": "67i9IW49tCAq"
      },
      "source": [
        "batch_size = 16\n",
        "epochs = 50\n",
        "IMG_HEIGHT = 224\n",
        "IMG_WIDTH = 224"
      ],
      "execution_count": 9,
      "outputs": []
    },
    {
      "cell_type": "code",
      "metadata": {
        "id": "B1wNKMo1tCAt"
      },
      "source": [
        "from tensorflow.keras.preprocessing.image import ImageDataGenerator\n",
        "\n",
        "train_image_generator = ImageDataGenerator(rescale=1./255) # Generator for our training data\n",
        "validation_image_generator = ImageDataGenerator(rescale=1./255) # Generator for our validation data"
      ],
      "execution_count": 10,
      "outputs": []
    },
    {
      "cell_type": "code",
      "metadata": {
        "id": "ndsuM4L9tCAv",
        "colab": {
          "base_uri": "https://localhost:8080/"
        },
        "outputId": "ddf7bf9d-67cd-41c5-e30c-3bf6cf579272"
      },
      "source": [
        "train_data_gen = train_image_generator.flow_from_directory(batch_size=batch_size,\n",
        "                                                           directory=train_dir,\n",
        "                                                           shuffle=True,\n",
        "                                                           target_size=(IMG_HEIGHT, IMG_WIDTH),\n",
        "                                                           class_mode='binary')"
      ],
      "execution_count": 11,
      "outputs": [
        {
          "output_type": "stream",
          "text": [
            "Found 533 images belonging to 2 classes.\n"
          ],
          "name": "stdout"
        }
      ]
    },
    {
      "cell_type": "code",
      "metadata": {
        "id": "9kxlk3optCAy",
        "colab": {
          "base_uri": "https://localhost:8080/"
        },
        "outputId": "322f3e21-3a5c-44f6-e581-5fa81f19be70"
      },
      "source": [
        "val_data_gen = validation_image_generator.flow_from_directory(batch_size=batch_size,\n",
        "                                                              directory=validation_dir,\n",
        "                                                              target_size=(IMG_HEIGHT, IMG_WIDTH),\n",
        "                                                              class_mode='binary')"
      ],
      "execution_count": 12,
      "outputs": [
        {
          "output_type": "stream",
          "text": [
            "Found 195 images belonging to 2 classes.\n"
          ],
          "name": "stdout"
        }
      ]
    },
    {
      "cell_type": "markdown",
      "metadata": {
        "id": "2l7ue6NutCA0"
      },
      "source": [
        "## Instatiate Model"
      ]
    },
    {
      "cell_type": "code",
      "metadata": {
        "id": "mKNIYOEItCA0"
      },
      "source": [
        "baseModel = ResNet50(weights='imagenet', include_top=False)\n",
        "\n",
        "for layer in baseModel.layers:\n",
        "    layer.trainable = False\n",
        "\n",
        "X = baseModel.output\n",
        "X = GlobalAveragePooling2D()(X)\n",
        "X = Dense(1024, activation='relu')(X)\n",
        "predictions = Dense(1, activation='sigmoid')(X)\n",
        "model = Model(baseModel.input, predictions)\n",
        "\n",
        "model.compile(optimizer='adam', loss='binary_crossentropy', metrics=['accuracy'])"
      ],
      "execution_count": 13,
      "outputs": []
    },
    {
      "cell_type": "markdown",
      "metadata": {
        "id": "BVPBWYG7tCA2"
      },
      "source": [
        "## Fit Model"
      ]
    },
    {
      "cell_type": "code",
      "metadata": {
        "id": "H4XdvWA5tCA3",
        "colab": {
          "base_uri": "https://localhost:8080/"
        },
        "outputId": "e562c7a6-7e13-4903-c4e1-5f3c0ae834a9"
      },
      "source": [
        "history = model.fit(\n",
        "    train_data_gen,\n",
        "    steps_per_epoch=total_train // batch_size,\n",
        "    epochs=epochs,\n",
        "    validation_data=val_data_gen,\n",
        "    validation_steps=total_val // batch_size\n",
        ")"
      ],
      "execution_count": 14,
      "outputs": [
        {
          "output_type": "stream",
          "text": [
            "Epoch 1/50\n",
            "32/32 [==============================] - 70s 2s/step - loss: 0.9282 - accuracy: 0.5227 - val_loss: 0.6246 - val_accuracy: 0.6477\n",
            "Epoch 2/50\n",
            "32/32 [==============================] - 66s 2s/step - loss: 0.6051 - accuracy: 0.6729 - val_loss: 0.5148 - val_accuracy: 0.7784\n",
            "Epoch 3/50\n",
            "32/32 [==============================] - 67s 2s/step - loss: 0.5778 - accuracy: 0.6951 - val_loss: 0.5745 - val_accuracy: 0.6705\n",
            "Epoch 4/50\n",
            "32/32 [==============================] - 65s 2s/step - loss: 0.5333 - accuracy: 0.7265 - val_loss: 0.4364 - val_accuracy: 0.8580\n",
            "Epoch 5/50\n",
            "32/32 [==============================] - 66s 2s/step - loss: 0.4279 - accuracy: 0.8657 - val_loss: 0.4064 - val_accuracy: 0.8580\n",
            "Epoch 6/50\n",
            "32/32 [==============================] - 65s 2s/step - loss: 0.3864 - accuracy: 0.8466 - val_loss: 0.7073 - val_accuracy: 0.5341\n",
            "Epoch 7/50\n",
            "32/32 [==============================] - 65s 2s/step - loss: 0.4718 - accuracy: 0.7683 - val_loss: 0.4908 - val_accuracy: 0.7898\n",
            "Epoch 8/50\n",
            "32/32 [==============================] - 64s 2s/step - loss: 0.3382 - accuracy: 0.8892 - val_loss: 0.3818 - val_accuracy: 0.8636\n",
            "Epoch 9/50\n",
            "32/32 [==============================] - 67s 2s/step - loss: 0.3157 - accuracy: 0.9011 - val_loss: 0.3433 - val_accuracy: 0.8352\n",
            "Epoch 10/50\n",
            "32/32 [==============================] - 65s 2s/step - loss: 0.2950 - accuracy: 0.8854 - val_loss: 0.2891 - val_accuracy: 0.9148\n",
            "Epoch 11/50\n",
            "32/32 [==============================] - 65s 2s/step - loss: 0.2897 - accuracy: 0.9210 - val_loss: 0.3543 - val_accuracy: 0.8466\n",
            "Epoch 12/50\n",
            "32/32 [==============================] - 65s 2s/step - loss: 0.3789 - accuracy: 0.8405 - val_loss: 0.2983 - val_accuracy: 0.9205\n",
            "Epoch 13/50\n",
            "32/32 [==============================] - 66s 2s/step - loss: 0.2633 - accuracy: 0.9153 - val_loss: 0.2590 - val_accuracy: 0.9148\n",
            "Epoch 14/50\n",
            "32/32 [==============================] - 67s 2s/step - loss: 0.2263 - accuracy: 0.9315 - val_loss: 0.3176 - val_accuracy: 0.8523\n",
            "Epoch 15/50\n",
            "32/32 [==============================] - 68s 2s/step - loss: 0.2191 - accuracy: 0.9332 - val_loss: 0.3913 - val_accuracy: 0.8295\n",
            "Epoch 16/50\n",
            "32/32 [==============================] - 67s 2s/step - loss: 0.2403 - accuracy: 0.9320 - val_loss: 0.2806 - val_accuracy: 0.8920\n",
            "Epoch 17/50\n",
            "32/32 [==============================] - 67s 2s/step - loss: 0.2452 - accuracy: 0.9035 - val_loss: 0.4601 - val_accuracy: 0.8295\n",
            "Epoch 18/50\n",
            "32/32 [==============================] - 66s 2s/step - loss: 0.2033 - accuracy: 0.9386 - val_loss: 0.3826 - val_accuracy: 0.8409\n",
            "Epoch 19/50\n",
            "32/32 [==============================] - 66s 2s/step - loss: 0.1925 - accuracy: 0.9511 - val_loss: 0.3036 - val_accuracy: 0.8466\n",
            "Epoch 20/50\n",
            "32/32 [==============================] - 67s 2s/step - loss: 0.1841 - accuracy: 0.9384 - val_loss: 0.2731 - val_accuracy: 0.8636\n",
            "Epoch 21/50\n",
            "32/32 [==============================] - 67s 2s/step - loss: 0.2441 - accuracy: 0.9250 - val_loss: 0.3427 - val_accuracy: 0.8409\n",
            "Epoch 22/50\n",
            "32/32 [==============================] - 67s 2s/step - loss: 0.1669 - accuracy: 0.9477 - val_loss: 0.2240 - val_accuracy: 0.9432\n",
            "Epoch 23/50\n",
            "32/32 [==============================] - 65s 2s/step - loss: 0.1642 - accuracy: 0.9447 - val_loss: 0.2419 - val_accuracy: 0.9034\n",
            "Epoch 24/50\n",
            "32/32 [==============================] - 65s 2s/step - loss: 0.1715 - accuracy: 0.9366 - val_loss: 0.3861 - val_accuracy: 0.8409\n",
            "Epoch 25/50\n",
            "32/32 [==============================] - 64s 2s/step - loss: 0.1741 - accuracy: 0.9540 - val_loss: 0.2177 - val_accuracy: 0.9261\n",
            "Epoch 26/50\n",
            "32/32 [==============================] - 63s 2s/step - loss: 0.2083 - accuracy: 0.9128 - val_loss: 0.2186 - val_accuracy: 0.9318\n",
            "Epoch 27/50\n",
            "32/32 [==============================] - 66s 2s/step - loss: 0.1213 - accuracy: 0.9643 - val_loss: 0.2047 - val_accuracy: 0.9375\n",
            "Epoch 28/50\n",
            "32/32 [==============================] - 67s 2s/step - loss: 0.1331 - accuracy: 0.9486 - val_loss: 0.4046 - val_accuracy: 0.8409\n",
            "Epoch 29/50\n",
            "32/32 [==============================] - 66s 2s/step - loss: 0.1437 - accuracy: 0.9343 - val_loss: 0.2974 - val_accuracy: 0.8807\n",
            "Epoch 30/50\n",
            "32/32 [==============================] - 66s 2s/step - loss: 0.0983 - accuracy: 0.9636 - val_loss: 0.2538 - val_accuracy: 0.8920\n",
            "Epoch 31/50\n",
            "32/32 [==============================] - 66s 2s/step - loss: 0.1358 - accuracy: 0.9565 - val_loss: 0.2045 - val_accuracy: 0.9375\n",
            "Epoch 32/50\n",
            "32/32 [==============================] - 67s 2s/step - loss: 0.2727 - accuracy: 0.8773 - val_loss: 0.2318 - val_accuracy: 0.9148\n",
            "Epoch 33/50\n",
            "32/32 [==============================] - 66s 2s/step - loss: 0.1096 - accuracy: 0.9685 - val_loss: 0.1939 - val_accuracy: 0.9375\n",
            "Epoch 34/50\n",
            "32/32 [==============================] - 65s 2s/step - loss: 0.1105 - accuracy: 0.9687 - val_loss: 0.1945 - val_accuracy: 0.9432\n",
            "Epoch 35/50\n",
            "32/32 [==============================] - 65s 2s/step - loss: 0.1761 - accuracy: 0.9323 - val_loss: 0.2032 - val_accuracy: 0.9375\n",
            "Epoch 36/50\n",
            "32/32 [==============================] - 65s 2s/step - loss: 0.1519 - accuracy: 0.9421 - val_loss: 0.3085 - val_accuracy: 0.8693\n",
            "Epoch 37/50\n",
            "32/32 [==============================] - 66s 2s/step - loss: 0.1544 - accuracy: 0.9390 - val_loss: 0.2470 - val_accuracy: 0.9034\n",
            "Epoch 38/50\n",
            "32/32 [==============================] - 67s 2s/step - loss: 0.1366 - accuracy: 0.9529 - val_loss: 0.2010 - val_accuracy: 0.9318\n",
            "Epoch 39/50\n",
            "32/32 [==============================] - 66s 2s/step - loss: 0.1062 - accuracy: 0.9559 - val_loss: 0.1926 - val_accuracy: 0.9375\n",
            "Epoch 40/50\n",
            "32/32 [==============================] - 68s 2s/step - loss: 0.0856 - accuracy: 0.9725 - val_loss: 0.3179 - val_accuracy: 0.8807\n",
            "Epoch 41/50\n",
            "32/32 [==============================] - 66s 2s/step - loss: 0.0698 - accuracy: 0.9800 - val_loss: 0.2681 - val_accuracy: 0.9148\n",
            "Epoch 42/50\n",
            "32/32 [==============================] - 66s 2s/step - loss: 0.1204 - accuracy: 0.9598 - val_loss: 0.6889 - val_accuracy: 0.7330\n",
            "Epoch 43/50\n",
            "32/32 [==============================] - 67s 2s/step - loss: 0.1321 - accuracy: 0.9306 - val_loss: 0.2137 - val_accuracy: 0.9318\n",
            "Epoch 44/50\n",
            "32/32 [==============================] - 66s 2s/step - loss: 0.1127 - accuracy: 0.9566 - val_loss: 0.1894 - val_accuracy: 0.9432\n",
            "Epoch 45/50\n",
            "32/32 [==============================] - 66s 2s/step - loss: 0.1318 - accuracy: 0.9366 - val_loss: 1.0007 - val_accuracy: 0.6705\n",
            "Epoch 46/50\n",
            "32/32 [==============================] - 66s 2s/step - loss: 0.2559 - accuracy: 0.8999 - val_loss: 0.1984 - val_accuracy: 0.9602\n",
            "Epoch 47/50\n",
            "32/32 [==============================] - 68s 2s/step - loss: 0.0881 - accuracy: 0.9670 - val_loss: 0.2203 - val_accuracy: 0.9375\n",
            "Epoch 48/50\n",
            "32/32 [==============================] - 65s 2s/step - loss: 0.0737 - accuracy: 0.9824 - val_loss: 0.2101 - val_accuracy: 0.9375\n",
            "Epoch 49/50\n",
            "32/32 [==============================] - 67s 2s/step - loss: 0.0767 - accuracy: 0.9777 - val_loss: 0.1778 - val_accuracy: 0.9432\n",
            "Epoch 50/50\n",
            "32/32 [==============================] - 67s 2s/step - loss: 0.0585 - accuracy: 0.9887 - val_loss: 0.1716 - val_accuracy: 0.9375\n"
          ],
          "name": "stdout"
        }
      ]
    },
    {
      "cell_type": "markdown",
      "metadata": {
        "id": "UPzsgS94tCA5"
      },
      "source": [
        "# Custom CNN Model\n",
        "\n",
        "In this step, write and train your own convolutional neural network using Keras. You can use any architecture that suits you as long as it has at least one convolutional and one pooling layer at the beginning of the network - you can add more if you want. "
      ]
    },
    {
      "cell_type": "code",
      "metadata": {
        "id": "hnbJJie3tCA5"
      },
      "source": [
        "from keras.preprocessing.image import ImageDataGenerator\n",
        "\n",
        "datagen = ImageDataGenerator(\n",
        "        rotation_range=40,\n",
        "        width_shift_range=0.2,\n",
        "        height_shift_range=0.2,\n",
        "        rescale=1./255,\n",
        "        shear_range=0.2,\n",
        "        zoom_range=0.2,\n",
        "        horizontal_flip=True,\n",
        "        fill_mode='nearest')"
      ],
      "execution_count": 15,
      "outputs": []
    },
    {
      "cell_type": "code",
      "metadata": {
        "id": "1P_mRtoutCA9",
        "colab": {
          "base_uri": "https://localhost:8080/"
        },
        "outputId": "c8a6fa3a-7192-4699-c51d-d93ab6b63498"
      },
      "source": [
        "from tensorflow.keras.models import Sequential, Model # <- May Use\n",
        "from tensorflow.keras.layers import Dense, Conv2D, MaxPooling2D, Flatten\n",
        "\n",
        "model = Sequential()\n",
        "model.add(Conv2D(32, (3,3), activation='relu', input_shape=(256,256,3)))\n",
        "model.add(MaxPooling2D((2,2)))\n",
        "model.add(Conv2D(32, (3,3), activation='relu'))\n",
        "model.add(MaxPooling2D((2,2)))\n",
        "model.add(Conv2D(64, (3,3), activation='relu'))\n",
        "model.add(Flatten())\n",
        "model.add(Dense(64, activation='relu'))\n",
        "# model.add(Dropout(0.5))\n",
        "# model.add(Dense(1))\n",
        "model.add(Dense(1, activation='sigmoid'))\n",
        "\n",
        "model.summary()"
      ],
      "execution_count": 16,
      "outputs": [
        {
          "output_type": "stream",
          "text": [
            "Model: \"sequential\"\n",
            "_________________________________________________________________\n",
            "Layer (type)                 Output Shape              Param #   \n",
            "=================================================================\n",
            "conv2d (Conv2D)              (None, 254, 254, 32)      896       \n",
            "_________________________________________________________________\n",
            "max_pooling2d (MaxPooling2D) (None, 127, 127, 32)      0         \n",
            "_________________________________________________________________\n",
            "conv2d_1 (Conv2D)            (None, 125, 125, 32)      9248      \n",
            "_________________________________________________________________\n",
            "max_pooling2d_1 (MaxPooling2 (None, 62, 62, 32)        0         \n",
            "_________________________________________________________________\n",
            "conv2d_2 (Conv2D)            (None, 60, 60, 64)        18496     \n",
            "_________________________________________________________________\n",
            "flatten (Flatten)            (None, 230400)            0         \n",
            "_________________________________________________________________\n",
            "dense_4 (Dense)              (None, 64)                14745664  \n",
            "_________________________________________________________________\n",
            "dense_5 (Dense)              (None, 1)                 65        \n",
            "=================================================================\n",
            "Total params: 14,774,369\n",
            "Trainable params: 14,774,369\n",
            "Non-trainable params: 0\n",
            "_________________________________________________________________\n"
          ],
          "name": "stdout"
        }
      ]
    },
    {
      "cell_type": "code",
      "metadata": {
        "id": "CwM4GsaetCA_"
      },
      "source": [
        "model.compile(optimizer='rmsprop', loss='binary_crossentropy', metrics=['accuracy'])"
      ],
      "execution_count": 17,
      "outputs": []
    },
    {
      "cell_type": "code",
      "metadata": {
        "id": "vmqzf1B3g2ip"
      },
      "source": [
        "model.fit(X_train, y_train, epochs=3, validation_data=(X_test, y_test))"
      ],
      "execution_count": null,
      "outputs": []
    },
    {
      "cell_type": "markdown",
      "metadata": {
        "id": "FNTHjUddtCBB"
      },
      "source": [
        "# Custom CNN Model with Image Manipulations\n",
        "\n",
        "To simulate an increase in a sample of image, you can apply image manipulation techniques: cropping, rotation, stretching, etc. Luckily Keras has some handy functions for us to apply these techniques to our mountain and forest example. Simply, you should be able to modify our image generator for the problem. Check out these resources to help you get started: \n",
        "\n",
        "1. [Keras `ImageGenerator` Class](https://keras.io/preprocessing/image/#imagedatagenerator-class)\n",
        "2. [Building a powerful image classifier with very little data](https://blog.keras.io/building-powerful-image-classification-models-using-very-little-data.html)\n",
        " "
      ]
    },
    {
      "cell_type": "code",
      "metadata": {
        "id": "XKioBv3WtCBB"
      },
      "source": [
        ""
      ],
      "execution_count": null,
      "outputs": []
    },
    {
      "cell_type": "markdown",
      "metadata": {
        "id": "uT3UV3gap9H6"
      },
      "source": [
        "# Resources and Stretch Goals\n",
        "\n",
        "Stretch goals\n",
        "- Enhance your code to use classes/functions and accept terms to search and classes to look for in recognizing the downloaded images (e.g. download images of parties, recognize all that contain balloons)\n",
        "- Check out [other available pretrained networks](https://tfhub.dev), try some and compare\n",
        "- Image recognition/classification is somewhat solved, but *relationships* between entities and describing an image is not - check out some of the extended resources (e.g. [Visual Genome](https://visualgenome.org/)) on the topic\n",
        "- Transfer learning - using images you source yourself, [retrain a classifier](https://www.tensorflow.org/hub/tutorials/image_retraining) with a new category\n",
        "- (Not CNN related) Use [piexif](https://pypi.org/project/piexif/) to check out the metadata of images passed in to your system - see if they're from a national park! (Note - many images lack GPS metadata, so this won't work in most cases, but still cool)\n",
        "\n",
        "Resources\n",
        "- [Deep Residual Learning for Image Recognition](https://arxiv.org/abs/1512.03385) - influential paper (introduced ResNet)\n",
        "- [YOLO: Real-Time Object Detection](https://pjreddie.com/darknet/yolo/) - an influential convolution based object detection system, focused on inference speed (for applications to e.g. self driving vehicles)\n",
        "- [R-CNN, Fast R-CNN, Faster R-CNN, YOLO](https://towardsdatascience.com/r-cnn-fast-r-cnn-faster-r-cnn-yolo-object-detection-algorithms-36d53571365e) - comparison of object detection systems\n",
        "- [Common Objects in Context](http://cocodataset.org/) - a large-scale object detection, segmentation, and captioning dataset\n",
        "- [Visual Genome](https://visualgenome.org/) - a dataset, a knowledge base, an ongoing effort to connect structured image concepts to language"
      ]
    }
  ]
}