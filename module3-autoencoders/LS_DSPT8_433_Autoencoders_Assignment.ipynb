{
  "nbformat": 4,
  "nbformat_minor": 0,
  "metadata": {
    "colab": {
      "name": "LS_DSPT8_433_Autoencoders_Assignment.ipynb",
      "provenance": []
    },
    "kernelspec": {
      "name": "python3",
      "display_name": "Python 3"
    }
  },
  "cells": [
    {
      "cell_type": "markdown",
      "metadata": {
        "id": "h-SrM7a8dxT2"
      },
      "source": [
        "# Today's Assignment\n",
        "\n",
        "Read About the History of General Artificial Intelligence Research, the future of AGI, and modern AI safety concerns. Write down your thoughts in the form of two-three questions you would ask your classmates. Please review the following resources:\n",
        "\n",
        "* [History of Artificial Intelligence](http://sitn.hms.harvard.edu/flash/2017/history-artificial-intelligence/)\n",
        "  1. It offers a bit of an explanation to the roller coaster of AI research; we saturate the capabilities of AI to the level of our current computational power (computer storage and processing speed), and then wait for Moore’s Law to catch up again.\n",
        "  2. Ironically, in the absence of government funding and public hype, AI thrived. During the 1990s and 2000s, many of the landmark goals of artificial intelligence had been achieved.\n",
        "  3. We will need to have a serious conversation about machine policy and ethics (ironically both fundamentally human subjects), but for now, we’ll allow AI to steadily improve and run amok in society. Humans are the neurons in the perceptron. \n",
        "* [How far-are we from achieving artificial general intelligence](https://www.forbes.com/sites/cognitiveworld/2019/06/10/how-far-are-we-from-achieving-artificial-general-intelligence/#e8aa1876dc4d)\n",
        "  1. This makes sense since deep learning and other subsets of artificial intelligence are basically a function of memory, and having infinite (or a large enough amount of) memory can mean that problems of the highest possible levels of complexity can be solved using algorithms.\n",
        "  2. And experts have predicted the development of artificial intelligence to be achieved as early as by 2030.\n",
        "  3. A survey of AI experts recently predicted the expected emergence of AGI or the singularity by the year 2060.\n",
        "* [Humans Fascination with artificial general intellgience](https://www.informationweek.com/big-data/ai-machine-learning/humans-fascination-with-artificial-general-intelligence/a/d-id/1334885) \n",
        "  1. He warns that we are so far unable to marshal an appropriate emotional response to the dangers ahead. In effect, he says that we are transfixed, like moths drawn to a flame, fascinated by the curious light without thought to the implications of our actions.\n",
        "  2. That has led Elon Musk to found Neuralink, with plans for an electrode-to-neuron-based brain-computer interface. Juniper Research believes these Brain Machine Interfaces -- devices that connect computers to the brain -- will reach 25.6 million by 2030. \n",
        "  3. Neuralink is hoping to one day build a device with AI that people could access with their thoughts, and ultimately achieve a symbiosis with AI. He has said this would allow humans to reach higher levels of cognition and give them a better shot at competing against AGI.\n",
        "* [Risks from Articial Intelligence](https://www.cser.ac.uk/research/risks-from-artificial-intelligence/) \n",
        "  1. There are a number of difficult technical problems related to the design of accident-free artificial-intelligence.\n",
        "  2. \n",
        "* [AI Safety Concerns](https://www.vox.com/future-perfect/2019/1/9/18174081/fhi-govai-ai-safety-american-public-worried-ai-catastrophe)\n",
        "* [Pascal's Mugging](https://www.youtube.com/watch?v=JRuNA2eK7w0)\n",
        "* [Yann LeCunn Interview](https://www.youtube.com/watch?v=SGSOCuByo24)"
      ]
    }
  ]
}